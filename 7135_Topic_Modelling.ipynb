{
 "cells": [
  {
   "cell_type": "markdown",
   "metadata": {},
   "source": [
    "Reference: https://www.machinelearningplus.com/nlp/topic-modeling-gensim-python/"
   ]
  },
  {
   "cell_type": "code",
   "execution_count": 1,
   "metadata": {},
   "outputs": [],
   "source": [
    "import pandas as pd\n",
    "import numpy as np\n",
    "import re\n",
    "import os\n",
    "from os import path\n",
    "\n",
    "# Gensim Package\n",
    "import gensim\n",
    "import gensim.corpora as corpora\n",
    "from gensim.utils import simple_preprocess\n",
    "from gensim.models import CoherenceModel\n",
    "\n",
    "#spacy for lemmatization\n",
    "import spacy\n",
    "\n",
    "# Plotting package\n",
    "import matplotlib.pyplot as plt\n",
    "\n",
    "#logging\n",
    "import logging\n",
    "logging.basicConfig(format='%(asctime)s : %(levelname)s : %(mmessage)s', level=logging.ERROR)\n",
    "\n",
    "import warnings\n",
    "warnings.filterwarnings(\"ignore\",category=DeprecationWarning)\n"
   ]
  },
  {
   "cell_type": "code",
   "execution_count": 2,
   "metadata": {},
   "outputs": [],
   "source": [
    "# Load files from directory\n",
    "root_folder = \"topicmodel_speeches\"\n",
    "files = os.listdir(root_folder)"
   ]
  },
  {
   "cell_type": "markdown",
   "metadata": {},
   "source": [
    "## Read the speeches from the text file and load into a list"
   ]
  },
  {
   "cell_type": "code",
   "execution_count": 3,
   "metadata": {},
   "outputs": [],
   "source": [
    "#load speeches into a list\n",
    "speeches = [] \n",
    "file_names = []\n",
    "for file in files:\n",
    "    with open(path.join(root_folder, file), 'r') as file_desc:\n",
    "       text = file_desc.read()\n",
    "       speeches.append(text)\n",
    "       file_names.append(file)\n"
   ]
  },
  {
   "cell_type": "markdown",
   "metadata": {},
   "source": [
    "## Extract President Name and Date of Speech by parsing the file name\n",
    "### example :  file name: \"1789-10-03 George Washington.txt\" - first part of file name is date of speech and second part is name of president"
   ]
  },
  {
   "cell_type": "code",
   "execution_count": 4,
   "metadata": {},
   "outputs": [],
   "source": [
    "def extract_metaData(file_names):\n",
    "    date_of_speech =[]\n",
    "    president_names = []\n",
    "    \n",
    "    for file in file_names:\n",
    "        data = file.replace('.txt','')\n",
    "        data = data.split(' ',1)\n",
    "        \n",
    "        date_of_speech.append(data[0])\n",
    "        president_names.append(data[1])\n",
    "\n",
    "    return date_of_speech, president_names\n",
    "    \n",
    "# call the extract_metaData function to parse the file name and extract date of speech and name of president    \n",
    "date_of_speech, president_names = extract_metaData(file_names)    "
   ]
  },
  {
   "cell_type": "code",
   "execution_count": 5,
   "metadata": {},
   "outputs": [
    {
     "name": "stdout",
     "output_type": "stream",
     "text": [
      "\n",
      " 1789-10-03 George Washington \n",
      " Whereas it is the duty of all Nations to acknowledge the providence of Almighty God to obey his will\n",
      "\n",
      " 1820-11-14 James Monroe \n",
      " Fellow Citizens of the Senate and of the House of Representatives: In communicating to you a just vi\n",
      "\n",
      " 1903-12-07 Theodore Roosevelt \n",
      " To the Senate and House of Representatives: The country is to be congratulated on the amount of subs\n"
     ]
    }
   ],
   "source": [
    "print(\"\\n\",date_of_speech[1],president_names[1],\"\\n\",speeches[1][0:100])\n",
    "print(\"\\n\",date_of_speech[80],president_names[80],\"\\n\",speeches[80][0:100])\n",
    "print(\"\\n\",date_of_speech[190],president_names[190],\"\\n\",speeches[190][0:100])"
   ]
  },
  {
   "cell_type": "markdown",
   "metadata": {},
   "source": [
    "## Perform cleaning of speech data\n",
    "\\w (word character) matches any single letter, number or underscore    \n",
    "\\s+       One or more spaces"
   ]
  },
  {
   "cell_type": "code",
   "execution_count": 6,
   "metadata": {},
   "outputs": [],
   "source": [
    "# clean speeches\n",
    "def clean_speech(speech):\n",
    "    speech = re.sub(r'[^\\w\\s]*', '', speech)  # replace any special characters or junk characters with ''\n",
    "    speech = re.sub(r'[\\s]+', ' ', speech)    # remove new line character\n",
    "    speech = speech.lower().strip()           # lowercase the text\n",
    "    \n",
    "    return speech\n"
   ]
  },
  {
   "cell_type": "code",
   "execution_count": 7,
   "metadata": {},
   "outputs": [],
   "source": [
    "clean_speeches = []\n",
    "for speech in speeches:\n",
    "    speech = clean_speech(speech)\n",
    "    clean_speeches.append(speech)\n"
   ]
  },
  {
   "cell_type": "code",
   "execution_count": 8,
   "metadata": {},
   "outputs": [
    {
     "name": "stdout",
     "output_type": "stream",
     "text": [
      "\n",
      " 1789-10-03 George Washington \n",
      " whereas it is the duty of all nations to acknowledge the providence of almighty god to obey his will\n",
      "\n",
      " 1820-11-14 James Monroe \n",
      " fellow citizens of the senate and of the house of representatives in communicating to you a just vie\n",
      "\n",
      " 1903-12-07 Theodore Roosevelt \n",
      " to the senate and house of representatives the country is to be congratulated on the amount of subst\n"
     ]
    }
   ],
   "source": [
    "print(\"\\n\",date_of_speech[1],president_names[1],\"\\n\",clean_speeches[1][0:100])\n",
    "print(\"\\n\",date_of_speech[80],president_names[80],\"\\n\",clean_speeches[80][0:100])\n",
    "print(\"\\n\",date_of_speech[190],president_names[190],\"\\n\",clean_speeches[190][0:100])"
   ]
  },
  {
   "cell_type": "markdown",
   "metadata": {},
   "source": [
    "## Tokenize the words and removing the punctuations and unnecassary characters \n",
    "We will use Gensim's simple_preprocess() function for this task"
   ]
  },
  {
   "cell_type": "code",
   "execution_count": 9,
   "metadata": {},
   "outputs": [],
   "source": [
    "def tokenize_to_words(clean_speeches):\n",
    "    for speech in clean_speeches:\n",
    "        yield(gensim.utils.simple_preprocess(str(speech), deacc=True))  # deacc=True removes punctuations\n",
    "                    "
   ]
  },
  {
   "cell_type": "code",
   "execution_count": 10,
   "metadata": {},
   "outputs": [],
   "source": [
    "speech_words = list(tokenize_to_words(clean_speeches))"
   ]
  },
  {
   "cell_type": "code",
   "execution_count": 11,
   "metadata": {},
   "outputs": [
    {
     "name": "stdout",
     "output_type": "stream",
     "text": [
      "['fellow', 'citizens', 'of', 'the', 'senate', 'and', 'the', 'house', 'of', 'representatives', 'among', 'the', 'vicissitudes', 'incident', 'to', 'life', 'no', 'event', 'could', 'have', 'filled', 'me', 'with', 'greater', 'anxieties', 'than', 'that', 'of', 'which', 'the', 'notification', 'was', 'transmitted', 'by', 'your', 'order', 'and', 'received', 'on', 'the', 'fourteenth', 'day', 'of', 'the', 'present', 'month', 'on', 'the', 'one', 'hand', 'was', 'summoned', 'by', 'my', 'country', 'whose', 'voice', 'can', 'never', 'hear', 'but', 'with', 'veneration', 'and', 'love', 'from', 'retreat', 'which', 'had', 'chosen', 'with', 'the', 'fondest', 'predilection', 'and', 'in', 'my', 'flattering', 'hopes', 'with', 'an', 'immutable', 'decision', 'as', 'the', 'asylum', 'of', 'my', 'declining', 'years', 'retreat', 'which', 'was', 'rendered', 'every', 'day', 'more', 'necessary', 'as', 'well']\n"
     ]
    }
   ],
   "source": [
    "print(speech_words[0][:100])"
   ]
  },
  {
   "cell_type": "markdown",
   "metadata": {},
   "source": [
    "## Create bigram model\n",
    "Bigrams are two words frequently occurring together in the document.    "
   ]
  },
  {
   "cell_type": "code",
   "execution_count": 12,
   "metadata": {},
   "outputs": [
    {
     "name": "stdout",
     "output_type": "stream",
     "text": [
      "['fellow_citizens', 'of', 'the', 'senate', 'and', 'the', 'house', 'of', 'representatives', 'among', 'the', 'vicissitudes', 'incident', 'to', 'life', 'no', 'event', 'could', 'have', 'filled', 'me', 'with', 'greater', 'anxieties', 'than', 'that', 'of', 'which', 'the', 'notification', 'was', 'transmitted', 'by', 'your', 'order', 'and', 'received', 'on', 'the', 'fourteenth', 'day', 'of', 'the', 'present', 'month', 'on', 'the', 'one', 'hand', 'was', 'summoned', 'by', 'my', 'country', 'whose', 'voice', 'can', 'never', 'hear', 'but', 'with', 'veneration', 'and', 'love', 'from', 'retreat', 'which', 'had', 'chosen', 'with', 'the', 'fondest', 'predilection', 'and', 'in', 'my', 'flattering', 'hopes', 'with', 'an', 'immutable', 'decision', 'as', 'the', 'asylum', 'of', 'my', 'declining', 'years', 'retreat', 'which', 'was', 'rendered', 'every', 'day', 'more', 'necessary', 'as', 'well', 'as', 'more', 'dear', 'to', 'me', 'by', 'the', 'addition', 'of', 'habit', 'to', 'inclination', 'and', 'of', 'frequent', 'interruptions', 'in', 'my', 'health', 'to', 'the', 'gradual', 'waste', 'committed', 'on', 'it', 'by', 'time', 'on', 'the', 'other', 'hand', 'the', 'magnitude', 'and', 'difficulty', 'of', 'the', 'trust', 'to', 'which', 'the', 'voice', 'of', 'my', 'country', 'called', 'me', 'being', 'sufficient', 'to', 'awaken', 'in', 'the', 'wisest', 'and', 'most', 'experienced', 'of', 'her', 'citizens', 'distrustful', 'scrutiny', 'into', 'his', 'qualification', 'could', 'not', 'but', 'overwhelm', 'with', 'dispondence', 'one', 'who', 'inheriting', 'inferior', 'endowments', 'from', 'nature', 'and', 'unpractised', 'in', 'the', 'duties', 'of', 'civil', 'administration', 'ought', 'to', 'be', 'peculiarly', 'conscious', 'of', 'his', 'own', 'deficencies', 'in', 'this', 'conflict', 'of', 'emotions', 'all', 'dare', 'aver', 'is', 'that', 'it', 'has', 'been', 'my', 'faithful', 'study', 'to', 'collect', 'my', 'duty', 'from', 'just', 'appreciation', 'of', 'every', 'circumstance', 'by', 'which', 'it', 'might', 'be', 'affected', 'all', 'dare', 'hope', 'is', 'that', 'if', 'in', 'executing', 'this', 'task', 'have', 'been', 'too', 'much', 'swayed', 'by', 'grateful', 'remembrance', 'of', 'former', 'instances', 'or', 'by', 'an', 'affectionate', 'sensibility', 'to', 'this', 'transcendent', 'proof', 'of', 'the', 'confidence', 'of', 'my', 'fellowcitizens', 'and', 'have', 'thence', 'too', 'little', 'consulted', 'my', 'incapacity', 'as', 'well', 'as', 'disinclination', 'for', 'the', 'weighty', 'and', 'untried', 'cares', 'before', 'me', 'my', 'error', 'will', 'be', 'palliated', 'by', 'the', 'motives', 'which', 'misled', 'me', 'and', 'its', 'consequences', 'be', 'judged', 'by', 'my', 'country', 'with', 'some', 'share', 'of', 'the', 'partiality', 'in', 'which', 'they', 'originated', 'such', 'being', 'the', 'impressions', 'under', 'which', 'have', 'in', 'obedience', 'to', 'the', 'public', 'summons', 'repaired', 'to', 'the', 'present', 'station', 'it', 'would', 'be', 'peculiarly', 'improper', 'to', 'omit', 'in', 'this', 'first', 'official', 'act', 'my', 'fervent_supplications', 'to', 'that', 'almighty', 'being', 'who', 'rules', 'over', 'the', 'universe', 'who', 'presides', 'in', 'the', 'councils', 'of', 'nations', 'and', 'whose', 'providential', 'aids', 'can', 'supply', 'every', 'human', 'defect', 'that', 'his', 'benediction', 'may', 'consecrate', 'to', 'the', 'liberties', 'and', 'happiness', 'of', 'the', 'people', 'of', 'the', 'united', 'states', 'government', 'instituted', 'by', 'themselves', 'for', 'these', 'essential', 'purposes', 'and', 'may', 'enable', 'every', 'instrument', 'employed', 'in', 'its', 'administration', 'to', 'execute', 'with', 'success', 'the', 'functions', 'allotted', 'to', 'his', 'charge', 'in', 'tendering', 'this', 'homage', 'to', 'the', 'great', 'author', 'of', 'every', 'public', 'and', 'private', 'good', 'assure', 'myself', 'that', 'it', 'expresses', 'your', 'sentiments', 'not', 'less', 'than', 'my', 'own', 'nor', 'those', 'of', 'my', 'fellowcitizens', 'at', 'large', 'less', 'than', 'either', 'no', 'people', 'can', 'be', 'bound', 'to', 'acknowledge', 'and', 'adore', 'the', 'invisible', 'hand', 'which', 'conducts', 'the', 'affairs', 'of', 'men', 'more', 'than', 'the', 'people', 'of', 'the', 'united', 'states', 'every', 'step', 'by', 'which', 'they', 'have', 'advanced', 'to', 'the', 'character', 'of', 'an', 'independent', 'nation', 'seems', 'to', 'have', 'been', 'distinguished', 'by', 'some', 'token', 'of', 'providential', 'agency', 'and', 'in', 'the', 'important', 'revolution', 'just', 'accomplished', 'in', 'the', 'system', 'of', 'their', 'united', 'government', 'the', 'tranquil', 'deliberations', 'and', 'voluntary', 'consent', 'of', 'so', 'many', 'distinct', 'communities', 'from', 'which', 'the', 'event', 'has', 'resulted', 'cannot', 'be', 'compared', 'with', 'the', 'means', 'by', 'which', 'most', 'governments', 'have', 'been', 'established', 'without', 'some', 'return', 'of', 'pious', 'gratitude', 'along', 'with', 'an', 'humble', 'anticipation', 'of', 'the', 'future', 'blessings', 'which', 'the', 'past', 'seem', 'to', 'presage', 'these', 'reflections', 'arising', 'out', 'of', 'the', 'present', 'crisis', 'have', 'forced', 'themselves', 'too', 'strongly', 'on', 'my', 'mind', 'to', 'be', 'suppressed', 'you', 'will', 'join', 'with', 'me', 'trust', 'in', 'thinking', 'that', 'there', 'are', 'none', 'under', 'the', 'influence', 'of', 'which', 'the', 'proceedings', 'of', 'new', 'and', 'free', 'government', 'can', 'more', 'auspiciously', 'commence', 'by', 'the', 'article', 'establishing', 'the', 'executive', 'department', 'it', 'is', 'made', 'the', 'duty', 'of', 'the', 'president', 'to', 'recommend', 'to', 'your', 'consideration', 'such', 'measures', 'as', 'he', 'shall', 'judge', 'necessary', 'and', 'expedient', 'the', 'circumstances', 'under', 'which', 'now', 'meet', 'you', 'will', 'acquit', 'me', 'from', 'entering', 'into', 'that', 'subject', 'farther', 'than', 'to', 'refer', 'to', 'the', 'great', 'constitutional', 'charter', 'under', 'which', 'you', 'are', 'assembled', 'and', 'which', 'in', 'defining', 'your', 'powers', 'designates', 'the', 'objects', 'to', 'which', 'your', 'attention', 'is', 'to', 'be', 'given', 'it', 'will', 'be', 'more', 'consistent', 'with', 'those', 'circumstances', 'and', 'far', 'more', 'congenial', 'with', 'the', 'feelings', 'which', 'actuate', 'me', 'to', 'substitute', 'in', 'place', 'of', 'recommendation', 'of', 'particular', 'measures', 'the', 'tribute', 'that', 'is', 'due', 'to', 'the', 'talents', 'the', 'rectitude', 'and', 'the', 'patriotism', 'which', 'adorn', 'the', 'characters', 'selected', 'to', 'devise', 'and', 'adopt', 'them', 'in', 'these', 'honorable', 'qualifications', 'behold', 'the', 'surest', 'pledges', 'that', 'as', 'on', 'one', 'side', 'no', 'local', 'prejudices', 'or', 'attachments', 'no', 'seperate', 'views', 'nor', 'party', 'animosities', 'will', 'misdirect', 'the', 'comprehensive', 'and', 'equal', 'eye', 'which', 'ought', 'to', 'watch', 'over', 'this', 'great', 'assemblage', 'of', 'communities', 'and', 'interests', 'so', 'on', 'another', 'that', 'the', 'foundations', 'of', 'our', 'national', 'policy', 'will', 'be', 'laid', 'in', 'the', 'pure', 'and', 'immutable', 'principles', 'of', 'private', 'morality', 'and', 'the', 'preeminence', 'of', 'free', 'government', 'be', 'exemplified', 'by', 'all', 'the', 'attributes', 'which', 'can', 'win', 'the', 'affections', 'of', 'its', 'citizens', 'and', 'command', 'the', 'respect', 'of', 'the', 'world', 'dwell', 'on', 'this', 'prospect', 'with', 'every', 'satisfaction', 'which', 'an', 'ardent', 'love', 'for', 'my', 'country', 'can', 'inspire', 'since', 'there', 'is', 'no', 'truth', 'more', 'thoroughly', 'established', 'than', 'that', 'there', 'exists', 'in', 'the', 'oeconomy', 'and', 'course', 'of', 'nature', 'an', 'indissoluble', 'union', 'between', 'virtue', 'and', 'happiness', 'between', 'duty', 'and', 'advantage', 'between', 'the', 'genuine', 'maxims', 'of', 'an', 'honest', 'and', 'magnanimous', 'policy', 'and', 'the', 'solid', 'rewards', 'of', 'public', 'prosperity', 'and', 'felicity', 'since', 'we', 'ought', 'to', 'be', 'no', 'less', 'persuaded', 'that', 'the', 'propitious', 'smiles', 'of', 'heaven', 'can', 'never', 'be', 'expected', 'on', 'nation', 'that', 'disregards', 'the', 'eternal', 'rules', 'of', 'order', 'and', 'right', 'which', 'heaven', 'itself', 'has', 'ordained', 'and', 'since', 'the', 'preservation', 'of', 'the', 'sacred', 'fire', 'of', 'liberty', 'and', 'the', 'destiny', 'of', 'the', 'republican', 'model', 'of', 'government', 'are', 'justly', 'considered', 'as', 'deeply', 'perhaps', 'as', 'finally', 'staked', 'on', 'the', 'experiment', 'entrusted', 'to', 'the', 'hands', 'of', 'the', 'american', 'people', 'besides', 'the', 'ordinary', 'objects', 'submitted', 'to', 'your', 'care', 'it', 'will', 'remain', 'with', 'your', 'judgment', 'to', 'decide', 'how', 'far', 'an', 'exercise', 'of', 'the', 'occasional', 'power', 'delegated', 'by', 'the', 'fifth', 'article', 'of', 'the', 'constitution', 'is', 'rendered', 'expedient', 'at', 'the', 'present', 'juncture', 'by', 'the', 'nature', 'of', 'objections', 'which', 'have', 'been', 'urged', 'against', 'the', 'system', 'or', 'by', 'the', 'degree', 'of', 'inquietude', 'which', 'has', 'given', 'birth', 'to', 'them', 'instead', 'of', 'undertaking', 'particular', 'recommendations', 'on', 'this', 'subject', 'in', 'which', 'could', 'be', 'guided', 'by', 'no', 'lights', 'derived', 'from', 'official', 'opportunities', 'shall', 'again', 'give', 'way', 'to', 'my', 'entire', 'confidence', 'in', 'your', 'discernment', 'and', 'pursuit', 'of', 'the', 'public', 'good', 'for', 'assure', 'myself', 'that', 'whilst', 'you', 'carefully', 'avoid', 'every', 'alteration', 'which', 'might', 'endanger', 'the', 'benefits', 'of', 'an', 'united', 'and', 'effective', 'government', 'or', 'which', 'ought', 'to', 'await', 'the', 'future', 'lessons', 'of', 'experience', 'reverence', 'for', 'the', 'characteristic', 'rights', 'of', 'freemen', 'and', 'regard', 'for', 'the', 'public', 'harmony', 'will', 'sufficiently', 'influence', 'your', 'deliberations', 'on', 'the', 'question', 'how', 'far', 'the', 'former', 'can', 'be', 'more', 'impregnably', 'fortified', 'or', 'the', 'latter', 'be', 'safely', 'and', 'advantageously', 'promoted', 'to', 'the', 'preceeding', 'observations', 'have', 'one', 'to', 'add', 'which', 'will', 'be', 'most', 'properly', 'addressed', 'to', 'the', 'house', 'of', 'representatives', 'it', 'concerns', 'myself', 'and', 'will', 'therefore', 'be', 'as', 'brief', 'as', 'possible', 'when', 'was', 'first', 'honoured', 'with', 'call', 'into', 'the', 'service', 'of', 'my', 'country', 'then', 'on', 'the', 'eve', 'of', 'an', 'arduous', 'struggle', 'for', 'its', 'liberties', 'the', 'light', 'in', 'which', 'contemplated', 'my', 'duty', 'required', 'that', 'should', 'renounce', 'every', 'pecuniary', 'compensation', 'from', 'this', 'resolution', 'have', 'in', 'no', 'instance', 'departed', 'and', 'being', 'still', 'under', 'the', 'impressions', 'which', 'produced', 'it', 'must', 'decline', 'as', 'inapplicable', 'to', 'myself', 'any', 'share', 'in', 'the', 'personal', 'emoluments', 'which', 'may', 'be', 'indispensably', 'included', 'in', 'permanent', 'provision', 'for', 'the', 'executive', 'department', 'and', 'must', 'accordingly', 'pray', 'that', 'the', 'pecuniary', 'estimates', 'for', 'the', 'station', 'in', 'which', 'am', 'placed', 'may', 'during', 'my', 'continuance', 'in', 'it', 'be', 'limited', 'to', 'such', 'actual', 'expenditures', 'as', 'the', 'public', 'good', 'may', 'be', 'thought', 'to', 'require', 'having', 'thus', 'imparted', 'to', 'you', 'my', 'sentiments', 'as', 'they', 'have', 'been', 'awakened', 'by', 'the', 'occasion', 'which', 'brings', 'us', 'together', 'shall', 'take', 'my', 'present', 'leave', 'but', 'not', 'without', 'resorting', 'once', 'more', 'to', 'the', 'benign', 'parent', 'of', 'the', 'human', 'race', 'in', 'humble', 'supplication', 'that', 'since', 'he', 'has', 'been', 'pleased', 'to', 'favour', 'the', 'american', 'people', 'with', 'opportunities', 'for', 'deliberating', 'in', 'perfect', 'tranquility', 'and', 'dispositions', 'for', 'deciding', 'with', 'unparellelled', 'unanimity', 'on', 'form', 'of', 'government', 'for', 'the', 'security', 'of', 'their', 'union', 'and', 'the', 'advancement', 'of', 'their', 'happiness', 'so', 'his', 'divine', 'blessing', 'may', 'be', 'equally', 'conspicuous', 'in', 'the', 'enlarged', 'views', 'the', 'temperate', 'consultations', 'and', 'the', 'wise', 'measures', 'on', 'which', 'the', 'success', 'of', 'this', 'government', 'must', 'depend']\n"
     ]
    }
   ],
   "source": [
    "bigram = gensim.models.Phrases(speech_words,min_count=5, threshold=100) #higher threshold will give few phrases\n",
    "\n",
    "bigram_mod = gensim.models.phrases.Phraser(bigram)\n",
    "\n",
    "print(bigram_mod[speech_words[0]])"
   ]
  },
  {
   "cell_type": "markdown",
   "metadata": {},
   "source": [
    "## Remove stop words, make bigrams and lemmatize the words"
   ]
  },
  {
   "cell_type": "code",
   "execution_count": 13,
   "metadata": {},
   "outputs": [],
   "source": [
    "# NLTK Stop words\n",
    "from nltk.corpus import stopwords\n",
    "stop_words = stopwords.words('english')\n",
    "# stop_words.extend(['from', 'subject', 're', 'edu', 'use'])"
   ]
  },
  {
   "cell_type": "code",
   "execution_count": 14,
   "metadata": {},
   "outputs": [],
   "source": [
    "# Define functions for stopwords, bigrams and lemmatization\n",
    "def remove_stopwords(texts):\n",
    "    return [[word for word in simple_preprocess(str(doc)) if word not in stop_words] for doc in texts]\n",
    "\n",
    "def make_bigrams(texts):\n",
    "    return [bigram_mod[doc] for doc in texts]\n",
    "\n",
    "def lemmatization(texts, allowed_postags=['NOUN', 'ADJ', 'VERB', 'ADV']):\n",
    "    \"\"\"https://spacy.io/api/annotation\"\"\"\n",
    "    texts_out = []\n",
    "    for sent in texts:\n",
    "        doc = nlp(\" \".join(sent)) \n",
    "        texts_out.append([token.lemma_ for token in doc if token.pos_ in allowed_postags])\n",
    "    return texts_out"
   ]
  },
  {
   "cell_type": "code",
   "execution_count": 15,
   "metadata": {},
   "outputs": [],
   "source": [
    "# Remove Stop Words\n",
    "speech_words_nostops = remove_stopwords(speech_words)\n",
    "\n",
    "# Form Bigrams\n",
    "speech_words_bigrams = make_bigrams(speech_words_nostops)\n",
    "\n",
    "# Initialize spacy 'en' model, keeping only tagger component (for efficiency)\n",
    "# python3 -m spacy download en\n",
    "nlp = spacy.load('en_core_web_sm', disable=['parser', 'ner'])\n",
    "\n",
    "# Do lemmatization keeping only noun, adj, vb, adv\n",
    "speech_lemmatized = lemmatization(speech_words_bigrams, allowed_postags=['NOUN', 'ADJ', 'VERB', 'ADV'])\n"
   ]
  },
  {
   "cell_type": "code",
   "execution_count": 16,
   "metadata": {},
   "outputs": [
    {
     "name": "stdout",
     "output_type": "stream",
     "text": [
      "['senate', 'house', 'representative', 'vicissitude', 'incident', 'life', 'event', 'fill', 'great', 'anxiety', 'notification', 'transmit', 'order', 'receive', 'fourteenth', 'day', 'present', 'month', 'hand', 'summon', 'country', 'voice', 'never', 'hear', 'veneration', 'love', 'retreat', 'choose', 'fondest', 'predilection', 'flatter', 'hope', 'immutable', 'decision', 'asylum', 'decline', 'year', 'retreat', 'render', 'day', 'necessary', 'dear', 'addition', 'habit', 'inclination', 'frequent', 'interruption', 'health', 'gradual', 'waste', 'commit', 'time', 'hand', 'magnitude', 'difficulty', 'trust', 'voice', 'country', 'call', 'sufficient', 'awaken', 'wise', 'experienced', 'citizen', 'distrustful', 'scrutiny', 'qualification', 'overwhelm', 'dispondence', 'inherit', 'inferior', 'endowment', 'nature', 'unpractised', 'duty', 'civil', 'administration', 'peculiarly', 'conscious', 'deficencie', 'conflict', 'emotion', 'dare', 'aver', 'faithful', 'study', 'collect', 'duty', 'appreciation', 'circumstance', 'affected', 'dare', 'hope', 'execute', 'task', 'much', 'sway', 'grateful', 'remembrance', 'former', 'instance', 'affectionate', 'sensibility', 'transcendent', 'proof', 'confidence', 'fellowcitizen', 'thence', 'little', 'consult', 'incapacity', 'disinclination', 'weighty', 'untried', 'care', 'error', 'palliate', 'motive', 'mislead', 'consequence', 'judge', 'country', 'share', 'partiality', 'originate', 'impression', 'obedience', 'public', 'summon', 'repair', 'present', 'station', 'peculiarly', 'improper', 'omit', 'first', 'official', 'act', 'fervent_supplication', 'almighty', 'rule', 'universe', 'preside', 'council', 'nation', 'providential', 'aid', 'supply', 'human', 'defect', 'benediction', 'consecrate', 'liberty', 'happiness', 'people', 'unite', 'state', 'government', 'institute', 'essential', 'purpose', 'enable', 'instrument', 'employ', 'administration', 'execute', 'success', 'function', 'allot', 'charge', 'tendering', 'homage', 'great', 'author', 'public', 'private', 'good', 'assure', 'express', 'sentiment', 'less', 'fellowcitizen', 'large', 'less', 'people', 'bind', 'acknowledge', 'adore', 'invisible', 'hand', 'conduct', 'affair', 'man', 'people', 'unite', 'state', 'step', 'advanced', 'character', 'independent', 'nation', 'seem', 'distinguished', 'token', 'providential', 'agency', 'important', 'revolution', 'accomplish', 'system', 'united', 'government', 'tranquil', 'deliberation', 'voluntary', 'consent', 'many', 'distinct', 'community', 'event', 'result', 'compare', 'mean', 'government', 'establish', 'return', 'pious', 'gratitude', 'humble', 'anticipation', 'future', 'blessing', 'past', 'seem', 'presage', 'reflection', 'arise', 'present', 'crisis', 'force', 'strongly', 'mind', 'suppress', 'join', 'trust', 'think', 'none', 'influence', 'proceeding', 'new', 'free', 'government', 'auspiciously', 'commence', 'article', 'establish', 'executive', 'department', 'make', 'duty', 'president', 'recommend', 'consideration', 'measure', 'judge', 'necessary', 'expedient', 'circumstance', 'meet', 'acquit', 'enter', 'subject', 'far', 'refer', 'great', 'constitutional', 'charter', 'assemble', 'define', 'power', 'designate', 'object', 'attention', 'give', 'consistent', 'circumstance', 'far', 'congenial', 'feeling', 'actuate', 'substitute', 'place', 'recommendation', 'particular', 'measure', 'tribute', 'due', 'talent', 'rectitude', 'patriotism', 'adorn', 'character', 'select', 'devise', 'adopt', 'honorable', 'qualification', 'behold', 'sure', 'pledge', 'side', 'local', 'prejudice', 'attachment', 'seperate', 'view', 'party', 'animosity', 'misdirect', 'comprehensive', 'equal', 'eye', 'watch', 'great', 'assemblage', 'community', 'interest', 'foundation', 'national', 'policy', 'lay', 'pure', 'immutable', 'principle', 'private', 'morality', 'preeminence', 'free', 'government', 'exemplify', 'attribute', 'win', 'affection', 'citizen', 'command', 'respect', 'world', 'dwell', 'prospect', 'satisfaction', 'ardent', 'love', 'country', 'inspire', 'truth', 'thoroughly', 'establish', 'exist', 'oeconomy', 'course', 'nature', 'indissoluble', 'union', 'virtue', 'happiness', 'duty', 'advantage', 'genuine', 'maxim', 'honest', 'magnanimous', 'policy', 'solid', 'reward', 'public', 'prosperity', 'felicity', 'less', 'persuade', 'propitious', 'smile', 'never', 'expect', 'nation', 'disregard', 'eternal', 'rule', 'order', 'right', 'ordain', 'preservation', 'sacred', 'fire', 'liberty', 'destiny', 'republican', 'model', 'government', 'justly', 'consider', 'deeply', 'perhaps', 'finally', 'stake', 'experiment', 'entrust', 'hand', 'american', 'people', 'ordinary', 'object', 'submit', 'care', 'remain', 'judgment', 'decide', 'far', 'exercise', 'occasional', 'power', 'delegate', 'fifth', 'article', 'constitution', 'render', 'expedient', 'present', 'juncture', 'nature', 'objection', 'urge', 'system', 'degree', 'inquietude', 'give', 'birth', 'instead', 'undertake', 'particular', 'recommendation', 'subject', 'guide', 'light', 'derive', 'official', 'opportunity', 'give', 'way', 'entire', 'confidence', 'discernment', 'pursuit', 'public', 'good', 'assure', 'carefully', 'avoid', 'alteration', 'endanger', 'benefit', 'united', 'effective', 'government', 'await', 'future', 'lesson', 'experience', 'reverence', 'characteristic', 'right', 'freeman', 'regard', 'public', 'harmony', 'sufficiently', 'influence', 'deliberation', 'question', 'far', 'former', 'impregnably', 'fortify', 'latter', 'safely', 'advantageously', 'promote', 'preceede', 'observation', 'add', 'properly', 'address', 'house', 'representative', 'concern', 'therefore', 'brief', 'possible', 'first', 'honour', 'call', 'service', 'country', 'eve', 'arduous', 'struggle', 'liberty', 'light', 'contemplate', 'duty', 'require', 'renounce', 'pecuniary', 'compensation', 'resolution', 'instance', 'depart', 'still', 'impression', 'produce', 'decline', 'inapplicable', 'share', 'personal', 'emolument', 'indispensably', 'include', 'permanent', 'provision', 'executive', 'department', 'accordingly', 'pray', 'pecuniary', 'estimate', 'station', 'place', 'continuance', 'limit', 'actual', 'expenditure', 'public', 'good', 'think', 'require', 'thus', 'imparted', 'sentiment', 'awakened', 'occasion', 'bring', 'together', 'take', 'present', 'leave', 'resort', 'benign', 'parent', 'human', 'race', 'humble', 'supplication', 'pleased', 'favour', 'american', 'people', 'opportunity', 'deliberate', 'perfect', 'tranquility', 'disposition', 'decide', 'unparellelled', 'unanimity', 'form', 'government', 'security', 'union', 'advancement', 'happiness', 'divine', 'blessing', 'equally', 'conspicuous', 'enlarged', 'view', 'temperate', 'consultation', 'wise', 'measure', 'success', 'government', 'depend']\n"
     ]
    }
   ],
   "source": [
    "print(speech_lemmatized[0])"
   ]
  },
  {
   "cell_type": "markdown",
   "metadata": {},
   "source": [
    "# Topic modelling\n",
    "###  LDA   \n",
    "Term Document Freq: (word_id, word_frequency)"
   ]
  },
  {
   "cell_type": "code",
   "execution_count": 17,
   "metadata": {},
   "outputs": [],
   "source": [
    "# Create Dictionary\n",
    "id2word = corpora.Dictionary(speech_lemmatized)\n",
    "# id2word.compactify()\n",
    "\n",
    "# Create Corpus\n",
    "texts = speech_lemmatized\n",
    "\n",
    "# Term Document Frequency\n",
    "corpus = [id2word.doc2bow(text) for text in texts]\n"
   ]
  },
  {
   "cell_type": "code",
   "execution_count": 18,
   "metadata": {
    "jupyter": {
     "outputs_hidden": true
    }
   },
   "outputs": [
    {
     "name": "stdout",
     "output_type": "stream",
     "text": [
      "accomplish \n",
      " [(0, 1), (1, 1), (2, 1), (3, 1), (4, 1), (5, 1), (6, 1), (7, 1), (8, 1), (9, 1), (10, 2), (11, 1), (12, 1), (13, 1), (14, 1), (15, 1), (16, 1), (17, 1), (18, 1), (19, 1), (20, 1), (21, 1), (22, 1), (23, 1), (24, 1), (25, 1), (26, 1), (27, 2), (28, 1), (29, 1), (30, 1), (31, 1), (32, 1), (33, 1), (34, 1), (35, 2), (36, 1), (37, 1), (38, 2), (39, 1), (40, 1), (41, 1), (42, 1), (43, 1), (44, 1), (45, 1), (46, 1), (47, 1), (48, 1), (49, 1), (50, 1), (51, 1), (52, 1), (53, 1), (54, 1), (55, 1), (56, 2), (57, 1), (58, 1), (59, 2), (60, 2), (61, 1), (62, 2), (63, 1), (64, 1), (65, 1), (66, 1), (67, 3), (68, 2), (69, 1), (70, 1), (71, 1), (72, 1), (73, 1), (74, 2), (75, 1), (76, 1), (77, 1), (78, 1), (79, 1), (80, 2), (81, 1), (82, 1), (83, 1), (84, 1), (85, 1), (86, 1), (87, 1), (88, 1), (89, 1), (90, 1), (91, 1), (92, 1), (93, 1), (94, 1), (95, 1), (96, 1), (97, 1), (98, 5), (99, 1), (100, 1), (101, 2), (102, 2), (103, 1), (104, 2), (105, 1), (106, 2), (107, 1), (108, 1), (109, 1), (110, 1), (111, 1), (112, 1), (113, 1), (114, 2), (115, 1), (116, 2), (117, 1), (118, 1), (119, 1), (120, 1), (121, 1), (122, 1), (123, 1), (124, 1), (125, 1), (126, 1), (127, 1), (128, 1), (129, 1), (130, 1), (131, 1), (132, 1), (133, 5), (134, 1), (135, 1), (136, 1), (137, 1), (138, 1), (139, 1), (140, 1), (141, 1), (142, 1), (143, 1), (144, 1), (145, 1), (146, 1), (147, 1), (148, 1), (149, 1), (150, 3), (151, 1), (152, 1), (153, 1), (154, 2), (155, 2), (156, 2), (157, 1), (158, 1), (159, 1), (160, 1), (161, 2), (162, 1), (163, 1), (164, 1), (165, 1), (166, 1), (167, 1), (168, 1), (169, 4), (170, 1), (171, 1), (172, 1), (173, 2), (174, 1), (175, 1), (176, 1), (177, 1), (178, 1), (179, 2), (180, 1), (181, 1), (182, 1), (183, 1), (184, 2), (185, 1), (186, 1), (187, 1), (188, 2), (189, 1), (190, 1), (191, 1), (192, 2), (193, 1), (194, 3), (195, 3), (196, 9), (197, 1), (198, 1), (199, 1), (200, 4), (201, 1), (202, 1), (203, 4), (204, 3), (205, 1), (206, 1), (207, 1), (208, 1), (209, 1), (210, 1), (211, 1), (212, 2), (213, 2), (214, 2), (215, 2), (216, 2), (217, 1), (218, 1), (219, 1), (220, 2), (221, 1), (222, 1), (223, 1), (224, 1), (225, 1), (226, 1), (227, 1), (228, 1), (229, 1), (230, 1), (231, 2), (232, 1), (233, 1), (234, 1), (235, 2), (236, 1), (237, 1), (238, 1), (239, 1), (240, 1), (241, 1), (242, 1), (243, 2), (244, 1), (245, 1), (246, 1), (247, 1), (248, 1), (249, 1), (250, 1), (251, 3), (252, 1), (253, 3), (254, 1), (255, 2), (256, 1), (257, 1), (258, 1), (259, 2), (260, 1), (261, 1), (262, 1), (263, 1), (264, 1), (265, 1), (266, 1), (267, 3), (268, 1), (269, 1), (270, 1), (271, 1), (272, 1), (273, 1), (274, 1), (275, 1), (276, 1), (277, 3), (278, 1), (279, 3), (280, 2), (281, 2), (282, 1), (283, 1), (284, 1), (285, 1), (286, 2), (287, 1), (288, 1), (289, 1), (290, 1), (291, 1), (292, 2), (293, 1), (294, 2), (295, 1), (296, 2), (297, 1), (298, 1), (299, 1), (300, 1), (301, 1), (302, 1), (303, 2), (304, 1), (305, 1), (306, 1), (307, 2), (308, 2), (309, 5), (310, 1), (311, 1), (312, 1), (313, 1), (314, 1), (315, 1), (316, 2), (317, 1), (318, 1), (319, 2), (320, 1), (321, 2), (322, 1), (323, 1), (324, 1), (325, 1), (326, 1), (327, 1), (328, 5), (329, 1), (330, 1), (331, 1), (332, 1), (333, 2), (334, 1), (335, 1), (336, 1), (337, 1), (338, 1), (339, 1), (340, 1), (341, 1), (342, 2), (343, 1), (344, 6), (345, 1), (346, 1), (347, 1), (348, 2), (349, 1), (350, 1), (351, 1), (352, 1), (353, 2), (354, 1), (355, 1), (356, 1), (357, 1), (358, 1), (359, 1), (360, 2), (361, 1), (362, 1), (363, 2), (364, 1), (365, 2), (366, 1), (367, 1), (368, 1), (369, 1), (370, 2), (371, 1), (372, 1), (373, 1), (374, 1), (375, 2), (376, 2), (377, 1), (378, 1), (379, 1), (380, 1), (381, 1), (382, 2), (383, 1), (384, 1), (385, 1), (386, 2), (387, 1), (388, 1), (389, 2), (390, 1), (391, 1), (392, 1), (393, 1), (394, 2), (395, 2), (396, 1), (397, 1), (398, 1), (399, 1), (400, 1), (401, 2), (402, 1), (403, 1), (404, 2), (405, 1), (406, 1), (407, 2), (408, 1), (409, 1), (410, 1), (411, 1), (412, 1), (413, 2), (414, 1), (415, 1), (416, 1), (417, 1), (418, 1), (419, 1), (420, 1), (421, 2), (422, 1), (423, 1), (424, 1), (425, 1), (426, 1), (427, 1), (428, 1), (429, 1), (430, 1), (431, 1), (432, 2), (433, 1), (434, 1), (435, 1), (436, 2), (437, 2), (438, 2), (439, 1), (440, 1), (441, 1), (442, 1), (443, 1), (444, 1), (445, 1), (446, 2), (447, 1), (448, 2), (449, 1), (450, 1), (451, 1), (452, 1), (453, 1), (454, 1), (455, 2), (456, 1), (457, 1)]\n"
     ]
    }
   ],
   "source": [
    "# View\n",
    "print(id2word[0], \"\\n\", corpus[0])"
   ]
  },
  {
   "cell_type": "code",
   "execution_count": 19,
   "metadata": {},
   "outputs": [],
   "source": [
    "# Human readable format of corpus (term-frequency)\n",
    "# [[(id2word[id], freq) for id, freq in cp] for cp in corpus[:1]]"
   ]
  },
  {
   "cell_type": "markdown",
   "metadata": {},
   "source": [
    "### Build the topic model"
   ]
  },
  {
   "cell_type": "code",
   "execution_count": 25,
   "metadata": {},
   "outputs": [
    {
     "name": "stderr",
     "output_type": "stream",
     "text": [
      "D:\\anaconda3\\lib\\site-packages\\ipykernel\\ipkernel.py:283: DeprecationWarning: `should_run_async` will not call `transform_cell` automatically in the future. Please pass the result to `transformed_cell` argument and any exception that happen during thetransform in `preprocessing_exc_tuple` in IPython 7.17 and above.\n",
      "  and should_run_async(code)\n"
     ]
    }
   ],
   "source": [
    "# Build LDA model\n",
    "lda_model = gensim.models.ldamodel.LdaModel(corpus=corpus,\n",
    "                                           id2word=id2word,\n",
    "                                           num_topics=25, \n",
    "                                           random_state=100,\n",
    "                                           update_every=1,\n",
    "                                           chunksize=100,\n",
    "                                           passes=10,\n",
    "                                           alpha='auto',\n",
    "                                           per_word_topics=True)"
   ]
  },
  {
   "cell_type": "code",
   "execution_count": 26,
   "metadata": {},
   "outputs": [
    {
     "name": "stdout",
     "output_type": "stream",
     "text": [
      "[(1,\n",
      "  '0.000*\"gratifiedbut\" + 0.000*\"growthwhile\" + 0.000*\"glimpse\" + '\n",
      "  '0.000*\"globeswept\" + 0.000*\"governmentand\" + 0.000*\"founda\" + '\n",
      "  '0.000*\"hardhitting\" + 0.000*\"hammarskioldor\" + 0.000*\"flowsha\" + '\n",
      "  '0.000*\"habitforme\"'),\n",
      " (12,\n",
      "  '0.000*\"gratifiedbut\" + 0.000*\"growthwhile\" + 0.000*\"glimpse\" + '\n",
      "  '0.000*\"globeswept\" + 0.000*\"governmentand\" + 0.000*\"founda\" + '\n",
      "  '0.000*\"hardhitting\" + 0.000*\"hammarskioldor\" + 0.000*\"flowsha\" + '\n",
      "  '0.000*\"habitforme\"'),\n",
      " (18,\n",
      "  '0.000*\"gratifiedbut\" + 0.000*\"growthwhile\" + 0.000*\"glimpse\" + '\n",
      "  '0.000*\"globeswept\" + 0.000*\"governmentand\" + 0.000*\"founda\" + '\n",
      "  '0.000*\"hardhitting\" + 0.000*\"hammarskioldor\" + 0.000*\"flowsha\" + '\n",
      "  '0.000*\"habitforme\"'),\n",
      " (11,\n",
      "  '0.000*\"gratifiedbut\" + 0.000*\"growthwhile\" + 0.000*\"glimpse\" + '\n",
      "  '0.000*\"globeswept\" + 0.000*\"governmentand\" + 0.000*\"founda\" + '\n",
      "  '0.000*\"hardhitting\" + 0.000*\"hammarskioldor\" + 0.000*\"flowsha\" + '\n",
      "  '0.000*\"habitforme\"'),\n",
      " (15,\n",
      "  '0.000*\"gratifiedbut\" + 0.000*\"growthwhile\" + 0.000*\"glimpse\" + '\n",
      "  '0.000*\"globeswept\" + 0.000*\"governmentand\" + 0.000*\"founda\" + '\n",
      "  '0.000*\"hardhitting\" + 0.000*\"hammarskioldor\" + 0.000*\"flowsha\" + '\n",
      "  '0.000*\"habitforme\"'),\n",
      " (9,\n",
      "  '0.000*\"gratifiedbut\" + 0.000*\"growthwhile\" + 0.000*\"glimpse\" + '\n",
      "  '0.000*\"globeswept\" + 0.000*\"governmentand\" + 0.000*\"founda\" + '\n",
      "  '0.000*\"hardhitting\" + 0.000*\"hammarskioldor\" + 0.000*\"flowsha\" + '\n",
      "  '0.000*\"habitforme\"'),\n",
      " (23,\n",
      "  '0.000*\"gratifiedbut\" + 0.000*\"growthwhile\" + 0.000*\"glimpse\" + '\n",
      "  '0.000*\"globeswept\" + 0.000*\"governmentand\" + 0.000*\"founda\" + '\n",
      "  '0.000*\"hardhitting\" + 0.000*\"hammarskioldor\" + 0.000*\"flowsha\" + '\n",
      "  '0.000*\"habitforme\"'),\n",
      " (21,\n",
      "  '0.000*\"gratifiedbut\" + 0.000*\"growthwhile\" + 0.000*\"glimpse\" + '\n",
      "  '0.000*\"globeswept\" + 0.000*\"governmentand\" + 0.000*\"founda\" + '\n",
      "  '0.000*\"hardhitting\" + 0.000*\"hammarskioldor\" + 0.000*\"flowsha\" + '\n",
      "  '0.000*\"habitforme\"'),\n",
      " (3,\n",
      "  '0.000*\"gratifiedbut\" + 0.000*\"growthwhile\" + 0.000*\"glimpse\" + '\n",
      "  '0.000*\"globeswept\" + 0.000*\"governmentand\" + 0.000*\"founda\" + '\n",
      "  '0.000*\"hardhitting\" + 0.000*\"hammarskioldor\" + 0.000*\"flowsha\" + '\n",
      "  '0.000*\"habitforme\"'),\n",
      " (4,\n",
      "  '0.000*\"gratifiedbut\" + 0.000*\"growthwhile\" + 0.000*\"glimpse\" + '\n",
      "  '0.000*\"globeswept\" + 0.000*\"governmentand\" + 0.000*\"founda\" + '\n",
      "  '0.000*\"hardhitting\" + 0.000*\"hammarskioldor\" + 0.000*\"flowsha\" + '\n",
      "  '0.000*\"habitforme\"'),\n",
      " (0,\n",
      "  '0.000*\"government\" + 0.000*\"globeswept\" + 0.000*\"gratifiedbut\" + '\n",
      "  '0.000*\"functionally\" + 0.000*\"glimpse\" + 0.000*\"footnote\" + '\n",
      "  '0.000*\"governmentand\" + 0.000*\"hammarskioldor\" + 0.000*\"habitforme\" + '\n",
      "  '0.000*\"firstwe\"'),\n",
      " (10,\n",
      "  '0.000*\"government\" + 0.000*\"state\" + 0.000*\"duty\" + 0.000*\"subject\" + '\n",
      "  '0.000*\"great\" + 0.000*\"country\" + 0.000*\"make\" + 0.000*\"year\" + '\n",
      "  '0.000*\"public\" + 0.000*\"right\"'),\n",
      " (22,\n",
      "  '0.037*\"freedom\" + 0.032*\"nation\" + 0.026*\"man\" + 0.018*\"great\" + '\n",
      "  '0.016*\"liberty\" + 0.015*\"democracy\" + 0.015*\"life\" + 0.015*\"human\" + '\n",
      "  '0.014*\"free\" + 0.013*\"live\"'),\n",
      " (8,\n",
      "  '0.038*\"night\" + 0.028*\"state\" + 0.015*\"hundred\" + 0.013*\"duty\" + '\n",
      "  '0.012*\"president\" + 0.011*\"unite\" + 0.011*\"united\" + 0.009*\"religious\" + '\n",
      "  '0.009*\"day\" + 0.009*\"citizen\"'),\n",
      " (19,\n",
      "  '0.021*\"government\" + 0.014*\"state\" + 0.012*\"law\" + 0.009*\"power\" + '\n",
      "  '0.008*\"public\" + 0.008*\"people\" + 0.007*\"right\" + 0.007*\"constitution\" + '\n",
      "  '0.007*\"congress\" + 0.006*\"make\"'),\n",
      " (13,\n",
      "  '0.037*\"president\" + 0.027*\"think\" + 0.025*\"say\" + 0.024*\"go\" + 0.020*\"do\" + '\n",
      "  '0.020*\"mr\" + 0.018*\"people\" + 0.014*\"make\" + 0.014*\"get\" + 0.014*\"want\"'),\n",
      " (5,\n",
      "  '0.022*\"year\" + 0.018*\"congress\" + 0.013*\"tax\" + 0.012*\"make\" + '\n",
      "  '0.011*\"increase\" + 0.010*\"american\" + 0.009*\"plan\" + 0.009*\"government\" + '\n",
      "  '0.009*\"work\" + 0.008*\"need\"'),\n",
      " (24,\n",
      "  '0.018*\"state\" + 0.013*\"government\" + 0.010*\"united\" + 0.008*\"country\" + '\n",
      "  '0.007*\"make\" + 0.006*\"treaty\" + 0.005*\"congress\" + 0.005*\"interest\" + '\n",
      "  '0.005*\"last\" + 0.005*\"present\"'),\n",
      " (7,\n",
      "  '0.020*\"world\" + 0.018*\"nation\" + 0.017*\"peace\" + 0.014*\"war\" + '\n",
      "  '0.012*\"people\" + 0.011*\"american\" + 0.010*\"united\" + 0.010*\"state\" + '\n",
      "  '0.010*\"force\" + 0.007*\"man\"'),\n",
      " (6,\n",
      "  '0.021*\"america\" + 0.017*\"american\" + 0.016*\"people\" + 0.013*\"work\" + '\n",
      "  '0.012*\"year\" + 0.011*\"new\" + 0.011*\"child\" + 0.010*\"make\" + 0.008*\"help\" + '\n",
      "  '0.008*\"let\"')]\n"
     ]
    },
    {
     "name": "stderr",
     "output_type": "stream",
     "text": [
      "D:\\anaconda3\\lib\\site-packages\\ipykernel\\ipkernel.py:283: DeprecationWarning: `should_run_async` will not call `transform_cell` automatically in the future. Please pass the result to `transformed_cell` argument and any exception that happen during thetransform in `preprocessing_exc_tuple` in IPython 7.17 and above.\n",
      "  and should_run_async(code)\n"
     ]
    }
   ],
   "source": [
    "# Print the Keyword in the 10 topics\n",
    "from pprint import pprint\n",
    "\n",
    "pprint(lda_model.print_topics())\n",
    "doc_lda = lda_model[corpus]"
   ]
  },
  {
   "cell_type": "code",
   "execution_count": null,
   "metadata": {},
   "outputs": [],
   "source": []
  },
  {
   "cell_type": "code",
   "execution_count": 27,
   "metadata": {},
   "outputs": [
    {
     "name": "stderr",
     "output_type": "stream",
     "text": [
      "D:\\anaconda3\\lib\\site-packages\\ipykernel\\ipkernel.py:283: DeprecationWarning: `should_run_async` will not call `transform_cell` automatically in the future. Please pass the result to `transformed_cell` argument and any exception that happen during thetransform in `preprocessing_exc_tuple` in IPython 7.17 and above.\n",
      "  and should_run_async(code)\n"
     ]
    },
    {
     "name": "stdout",
     "output_type": "stream",
     "text": [
      "\n",
      "Perplexity:  -11.33381190328704\n",
      "\n",
      "Coherence Score:  0.4720110915790855\n"
     ]
    }
   ],
   "source": [
    "# Compute Perplexity\n",
    "print('\\nPerplexity: ', lda_model.log_perplexity(corpus))  # a measure of how good the model is. lower the better.\n",
    "\n",
    "# Compute Coherence Score\n",
    "coherence_model_lda = CoherenceModel(model=lda_model, texts=speech_lemmatized, dictionary=id2word, coherence='c_v')\n",
    "coherence_lda = coherence_model_lda.get_coherence()\n",
    "print('\\nCoherence Score: ', coherence_lda)"
   ]
  },
  {
   "cell_type": "code",
   "execution_count": null,
   "metadata": {},
   "outputs": [],
   "source": []
  },
  {
   "cell_type": "code",
   "execution_count": null,
   "metadata": {},
   "outputs": [],
   "source": []
  },
  {
   "cell_type": "markdown",
   "metadata": {},
   "source": [
    "# Optimize the number of topics"
   ]
  },
  {
   "cell_type": "code",
   "execution_count": 57,
   "metadata": {},
   "outputs": [
    {
     "name": "stderr",
     "output_type": "stream",
     "text": [
      "D:\\anaconda3\\lib\\site-packages\\ipykernel\\ipkernel.py:283: DeprecationWarning: `should_run_async` will not call `transform_cell` automatically in the future. Please pass the result to `transformed_cell` argument and any exception that happen during thetransform in `preprocessing_exc_tuple` in IPython 7.17 and above.\n",
      "  and should_run_async(code)\n"
     ]
    }
   ],
   "source": [
    "def compute_coherence_values(dictionary, corpus, texts, limit, start=2, step=2):\n",
    "    \"\"\"\n",
    "    Compute c_v coherence for various number of topics\n",
    "\n",
    "    Parameters:\n",
    "    ----------\n",
    "    dictionary : Gensim dictionary\n",
    "    corpus : Gensim corpus\n",
    "    texts : List of input texts\n",
    "    limit : Max num of topics\n",
    "\n",
    "    Returns:\n",
    "    -------\n",
    "    model_list : List of LDA topic models\n",
    "    coherence_values : Coherence values corresponding to the LDA model with respective number of topics\n",
    "    \"\"\"\n",
    "    coherence_values = []\n",
    "    model_list = []\n",
    "    perplexity= []\n",
    "    for num_topics in range(start, limit, step):\n",
    "        model = gensim.models.ldamodel.LdaModel(corpus=corpus,\n",
    "                                                           id2word=dictionary,\n",
    "                                                           num_topics=num_topics, \n",
    "                                                           random_state=100,\n",
    "                                                           update_every=1,\n",
    "                                                           chunksize=100,\n",
    "                                                           passes=20,\n",
    "                                                           alpha='auto',\n",
    "                                                           per_word_topics=True)        \n",
    "        \n",
    "        model_list.append(model)\n",
    "        perplexity.append(model.log_perplexity(corpus))  # a measure of how good the model is. lower the better.\n",
    "        coherencemodel = CoherenceModel(model=model, texts=texts, dictionary=dictionary, coherence='c_v')\n",
    "        coherence_values.append(coherencemodel.get_coherence())\n",
    "\n",
    "    return model_list, coherence_values, perplexity"
   ]
  },
  {
   "cell_type": "code",
   "execution_count": 58,
   "metadata": {},
   "outputs": [
    {
     "name": "stderr",
     "output_type": "stream",
     "text": [
      "D:\\anaconda3\\lib\\site-packages\\ipykernel\\ipkernel.py:283: DeprecationWarning: `should_run_async` will not call `transform_cell` automatically in the future. Please pass the result to `transformed_cell` argument and any exception that happen during thetransform in `preprocessing_exc_tuple` in IPython 7.17 and above.\n",
      "  and should_run_async(code)\n"
     ]
    }
   ],
   "source": [
    "# Can take a long time to run.\n",
    "model_list, coherence_values, perplexity = compute_coherence_values(dictionary=id2word, \\\n",
    "                                                        corpus=corpus, texts=speech_lemmatized, start=2, limit=50, step=2)"
   ]
  },
  {
   "cell_type": "code",
   "execution_count": 59,
   "metadata": {},
   "outputs": [
    {
     "name": "stderr",
     "output_type": "stream",
     "text": [
      "D:\\anaconda3\\lib\\site-packages\\ipykernel\\ipkernel.py:283: DeprecationWarning: `should_run_async` will not call `transform_cell` automatically in the future. Please pass the result to `transformed_cell` argument and any exception that happen during thetransform in `preprocessing_exc_tuple` in IPython 7.17 and above.\n",
      "  and should_run_async(code)\n"
     ]
    },
    {
     "data": {
      "image/png": "[encoded data removed]",
      "text/plain": [
       "<Figure size 432x288 with 1 Axes>"
      ]
     },
     "metadata": {
      "needs_background": "light"
     },
     "output_type": "display_data"
    }
   ],
   "source": [
    "# Show graph\n",
    "limit=50; start=2; step=2;\n",
    "x = range(start, limit, step)\n",
    "plt.plot(x, coherence_values)\n",
    "plt.xlabel(\"Num Topics\")\n",
    "plt.ylabel(\"Coherence score\")\n",
    "plt.legend((\"coherence_values\"), loc='best')\n",
    "plt.show()"
   ]
  },
  {
   "cell_type": "code",
   "execution_count": 60,
   "metadata": {},
   "outputs": [
    {
     "name": "stderr",
     "output_type": "stream",
     "text": [
      "D:\\anaconda3\\lib\\site-packages\\ipykernel\\ipkernel.py:283: DeprecationWarning: `should_run_async` will not call `transform_cell` automatically in the future. Please pass the result to `transformed_cell` argument and any exception that happen during thetransform in `preprocessing_exc_tuple` in IPython 7.17 and above.\n",
      "  and should_run_async(code)\n"
     ]
    },
    {
     "name": "stdout",
     "output_type": "stream",
     "text": [
      "Iteration:  0 , Number of Topics :  2 , Perplexity:  -7.8540021122536885 , CV Score:  0.30005321950674385 \n",
      "\n",
      "Iteration:  1 , Number of Topics :  4 , Perplexity:  -7.8478240119899425 , CV Score:  0.35538471806519 \n",
      "\n",
      "Iteration:  2 , Number of Topics :  6 , Perplexity:  -7.8648957035204115 , CV Score:  0.38278240772543803 \n",
      "\n",
      "Iteration:  3 , Number of Topics :  8 , Perplexity:  -7.954597064765758 , CV Score:  0.4234125956047471 \n",
      "\n",
      "Iteration:  4 , Number of Topics :  10 , Perplexity:  -8.238900789123726 , CV Score:  0.42292204458256955 \n",
      "\n",
      "Iteration:  5 , Number of Topics :  12 , Perplexity:  -8.745307825518235 , CV Score:  0.42836291342493293 \n",
      "\n",
      "Iteration:  6 , Number of Topics :  14 , Perplexity:  -9.362685397877462 , CV Score:  0.4694816953479912 \n",
      "\n",
      "Iteration:  7 , Number of Topics :  16 , Perplexity:  -10.013908009536388 , CV Score:  0.4734227620132248 \n",
      "\n",
      "Iteration:  8 , Number of Topics :  18 , Perplexity:  -10.38941493947096 , CV Score:  0.4413568710111486 \n",
      "\n",
      "Iteration:  9 , Number of Topics :  20 , Perplexity:  -10.668837396167921 , CV Score:  0.4584030269234141 \n",
      "\n",
      "Iteration:  10 , Number of Topics :  22 , Perplexity:  -10.94244347126426 , CV Score:  0.49027062952987815 \n",
      "\n",
      "Iteration:  11 , Number of Topics :  24 , Perplexity:  -11.201742070191132 , CV Score:  0.45696743088679065 \n",
      "\n",
      "Iteration:  12 , Number of Topics :  26 , Perplexity:  -11.506567791674266 , CV Score:  0.48625063710636657 \n",
      "\n",
      "Iteration:  13 , Number of Topics :  28 , Perplexity:  -11.774450097319258 , CV Score:  0.4731604683323724 \n",
      "\n",
      "Iteration:  14 , Number of Topics :  30 , Perplexity:  -12.017721235380666 , CV Score:  0.48015216858001186 \n",
      "\n",
      "Iteration:  15 , Number of Topics :  32 , Perplexity:  -12.322289225815508 , CV Score:  0.47550399891011125 \n",
      "\n",
      "Iteration:  16 , Number of Topics :  34 , Perplexity:  -12.588863185866403 , CV Score:  0.46581367207426083 \n",
      "\n",
      "Iteration:  17 , Number of Topics :  36 , Perplexity:  -12.881223501064587 , CV Score:  0.4716159272869189 \n",
      "\n",
      "Iteration:  18 , Number of Topics :  38 , Perplexity:  -13.16425869716644 , CV Score:  0.4792345073238262 \n",
      "\n",
      "Iteration:  19 , Number of Topics :  40 , Perplexity:  -13.426986271696046 , CV Score:  0.46997972590771253 \n",
      "\n",
      "Iteration:  20 , Number of Topics :  42 , Perplexity:  -13.728683390042882 , CV Score:  0.4650692055571068 \n",
      "\n",
      "Iteration:  21 , Number of Topics :  44 , Perplexity:  -14.035746412706011 , CV Score:  0.5046620934913689 \n",
      "\n",
      "Iteration:  22 , Number of Topics :  46 , Perplexity:  -14.295386457495892 , CV Score:  0.47216007596983484 \n",
      "\n",
      "Iteration:  23 , Number of Topics :  48 , Perplexity:  -14.556148734812629 , CV Score:  0.4831177684046355 \n",
      "\n"
     ]
    }
   ],
   "source": [
    "iterations = 0\n",
    "for p, cv, i in zip(perplexity, coherence_values, x):\n",
    "    print(\"Iteration: \", iterations, \", Number of Topics : \", i, \", Perplexity: \", p, \", CV Score: \", cv, \"\\n\")\n",
    "    iterations +=1\n",
    "    "
   ]
  },
  {
   "cell_type": "markdown",
   "metadata": {},
   "source": [
    "# Visualization"
   ]
  },
  {
   "cell_type": "code",
   "execution_count": 71,
   "metadata": {},
   "outputs": [
    {
     "name": "stderr",
     "output_type": "stream",
     "text": [
      "D:\\anaconda3\\lib\\site-packages\\ipykernel\\ipkernel.py:283: DeprecationWarning: `should_run_async` will not call `transform_cell` automatically in the future. Please pass the result to `transformed_cell` argument and any exception that happen during thetransform in `preprocessing_exc_tuple` in IPython 7.17 and above.\n",
      "  and should_run_async(code)\n",
      "D:\\anaconda3\\lib\\site-packages\\IPython\\html.py:12: ShimWarning: The `IPython.html` package has been deprecated since IPython 4.0. You should import from `notebook` instead. `IPython.html.widgets` has moved to `ipywidgets`.\n",
      "  warn(\"The `IPython.html` package has been deprecated since IPython 4.0. \"\n"
     ]
    }
   ],
   "source": [
    "# Visualize the topics\n",
    "import pyLDAvis\n",
    "import pyLDAvis.gensim  # don't skip this\n",
    "\n",
    "pyLDAvis.enable_notebook(local=True)\n"
   ]
  },
  {
   "cell_type": "code",
   "execution_count": 77,
   "metadata": {},
   "outputs": [
    {
     "name": "stderr",
     "output_type": "stream",
     "text": [
      "D:\\anaconda3\\lib\\site-packages\\ipykernel\\ipkernel.py:283: DeprecationWarning: `should_run_async` will not call `transform_cell` automatically in the future. Please pass the result to `transformed_cell` argument and any exception that happen during thetransform in `preprocessing_exc_tuple` in IPython 7.17 and above.\n",
      "  and should_run_async(code)\n",
      "D:\\anaconda3\\lib\\site-packages\\sklearn\\metrics\\pairwise.py:58: DeprecationWarning: `np.float` is a deprecated alias for the builtin `float`. To silence this warning, use `float` by itself. Doing this will not modify any behavior and is safe. If you specifically wanted the numpy scalar type, use `np.float64` here.\n",
      "Deprecated in NumPy 1.20; for more details and guidance: https://numpy.org/devdocs/release/1.20.0-notes.html#deprecations\n",
      "  dtype = np.float\n",
      "D:\\anaconda3\\lib\\site-packages\\sklearn\\metrics\\pairwise.py:58: DeprecationWarning: `np.float` is a deprecated alias for the builtin `float`. To silence this warning, use `float` by itself. Doing this will not modify any behavior and is safe. If you specifically wanted the numpy scalar type, use `np.float64` here.\n",
      "Deprecated in NumPy 1.20; for more details and guidance: https://numpy.org/devdocs/release/1.20.0-notes.html#deprecations\n",
      "  dtype = np.float\n",
      "D:\\anaconda3\\lib\\site-packages\\sklearn\\metrics\\pairwise.py:58: DeprecationWarning: `np.float` is a deprecated alias for the builtin `float`. To silence this warning, use `float` by itself. Doing this will not modify any behavior and is safe. If you specifically wanted the numpy scalar type, use `np.float64` here.\n",
      "Deprecated in NumPy 1.20; for more details and guidance: https://numpy.org/devdocs/release/1.20.0-notes.html#deprecations\n",
      "  dtype = np.float\n",
      "D:\\anaconda3\\lib\\site-packages\\sklearn\\metrics\\pairwise.py:58: DeprecationWarning: `np.float` is a deprecated alias for the builtin `float`. To silence this warning, use `float` by itself. Doing this will not modify any behavior and is safe. If you specifically wanted the numpy scalar type, use `np.float64` here.\n",
      "Deprecated in NumPy 1.20; for more details and guidance: https://numpy.org/devdocs/release/1.20.0-notes.html#deprecations\n",
      "  dtype = np.float\n",
      "D:\\anaconda3\\lib\\site-packages\\sklearn\\metrics\\pairwise.py:58: DeprecationWarning: `np.float` is a deprecated alias for the builtin `float`. To silence this warning, use `float` by itself. Doing this will not modify any behavior and is safe. If you specifically wanted the numpy scalar type, use `np.float64` here.\n",
      "Deprecated in NumPy 1.20; for more details and guidance: https://numpy.org/devdocs/release/1.20.0-notes.html#deprecations\n",
      "  dtype = np.float\n",
      "D:\\anaconda3\\lib\\site-packages\\sklearn\\metrics\\pairwise.py:58: DeprecationWarning: `np.float` is a deprecated alias for the builtin `float`. To silence this warning, use `float` by itself. Doing this will not modify any behavior and is safe. If you specifically wanted the numpy scalar type, use `np.float64` here.\n",
      "Deprecated in NumPy 1.20; for more details and guidance: https://numpy.org/devdocs/release/1.20.0-notes.html#deprecations\n",
      "  dtype = np.float\n",
      "D:\\anaconda3\\lib\\site-packages\\sklearn\\metrics\\pairwise.py:58: DeprecationWarning: `np.float` is a deprecated alias for the builtin `float`. To silence this warning, use `float` by itself. Doing this will not modify any behavior and is safe. If you specifically wanted the numpy scalar type, use `np.float64` here.\n",
      "Deprecated in NumPy 1.20; for more details and guidance: https://numpy.org/devdocs/release/1.20.0-notes.html#deprecations\n",
      "  dtype = np.float\n",
      "D:\\anaconda3\\lib\\site-packages\\sklearn\\metrics\\pairwise.py:58: DeprecationWarning: `np.float` is a deprecated alias for the builtin `float`. To silence this warning, use `float` by itself. Doing this will not modify any behavior and is safe. If you specifically wanted the numpy scalar type, use `np.float64` here.\n",
      "Deprecated in NumPy 1.20; for more details and guidance: https://numpy.org/devdocs/release/1.20.0-notes.html#deprecations\n",
      "  dtype = np.float\n",
      "D:\\anaconda3\\lib\\site-packages\\sklearn\\metrics\\pairwise.py:58: DeprecationWarning: `np.float` is a deprecated alias for the builtin `float`. To silence this warning, use `float` by itself. Doing this will not modify any behavior and is safe. If you specifically wanted the numpy scalar type, use `np.float64` here.\n",
      "Deprecated in NumPy 1.20; for more details and guidance: https://numpy.org/devdocs/release/1.20.0-notes.html#deprecations\n",
      "  dtype = np.float\n",
      "D:\\anaconda3\\lib\\site-packages\\sklearn\\metrics\\pairwise.py:58: DeprecationWarning: `np.float` is a deprecated alias for the builtin `float`. To silence this warning, use `float` by itself. Doing this will not modify any behavior and is safe. If you specifically wanted the numpy scalar type, use `np.float64` here.\n",
      "Deprecated in NumPy 1.20; for more details and guidance: https://numpy.org/devdocs/release/1.20.0-notes.html#deprecations\n",
      "  dtype = np.float\n",
      "D:\\anaconda3\\lib\\site-packages\\sklearn\\metrics\\pairwise.py:58: DeprecationWarning: `np.float` is a deprecated alias for the builtin `float`. To silence this warning, use `float` by itself. Doing this will not modify any behavior and is safe. If you specifically wanted the numpy scalar type, use `np.float64` here.\n",
      "Deprecated in NumPy 1.20; for more details and guidance: https://numpy.org/devdocs/release/1.20.0-notes.html#deprecations\n",
      "  dtype = np.float\n",
      "D:\\anaconda3\\lib\\site-packages\\sklearn\\metrics\\pairwise.py:58: DeprecationWarning: `np.float` is a deprecated alias for the builtin `float`. To silence this warning, use `float` by itself. Doing this will not modify any behavior and is safe. If you specifically wanted the numpy scalar type, use `np.float64` here.\n",
      "Deprecated in NumPy 1.20; for more details and guidance: https://numpy.org/devdocs/release/1.20.0-notes.html#deprecations\n",
      "  dtype = np.float\n",
      "D:\\anaconda3\\lib\\site-packages\\sklearn\\metrics\\pairwise.py:58: DeprecationWarning: `np.float` is a deprecated alias for the builtin `float`. To silence this warning, use `float` by itself. Doing this will not modify any behavior and is safe. If you specifically wanted the numpy scalar type, use `np.float64` here.\n",
      "Deprecated in NumPy 1.20; for more details and guidance: https://numpy.org/devdocs/release/1.20.0-notes.html#deprecations\n",
      "  dtype = np.float\n",
      "D:\\anaconda3\\lib\\site-packages\\sklearn\\metrics\\pairwise.py:58: DeprecationWarning: `np.float` is a deprecated alias for the builtin `float`. To silence this warning, use `float` by itself. Doing this will not modify any behavior and is safe. If you specifically wanted the numpy scalar type, use `np.float64` here.\n",
      "Deprecated in NumPy 1.20; for more details and guidance: https://numpy.org/devdocs/release/1.20.0-notes.html#deprecations\n",
      "  dtype = np.float\n",
      "D:\\anaconda3\\lib\\site-packages\\sklearn\\metrics\\pairwise.py:58: DeprecationWarning: `np.float` is a deprecated alias for the builtin `float`. To silence this warning, use `float` by itself. Doing this will not modify any behavior and is safe. If you specifically wanted the numpy scalar type, use `np.float64` here.\n",
      "Deprecated in NumPy 1.20; for more details and guidance: https://numpy.org/devdocs/release/1.20.0-notes.html#deprecations\n",
      "  dtype = np.float\n",
      "D:\\anaconda3\\lib\\site-packages\\sklearn\\metrics\\pairwise.py:58: DeprecationWarning: `np.float` is a deprecated alias for the builtin `float`. To silence this warning, use `float` by itself. Doing this will not modify any behavior and is safe. If you specifically wanted the numpy scalar type, use `np.float64` here.\n",
      "Deprecated in NumPy 1.20; for more details and guidance: https://numpy.org/devdocs/release/1.20.0-notes.html#deprecations\n",
      "  dtype = np.float\n",
      "D:\\anaconda3\\lib\\site-packages\\sklearn\\metrics\\pairwise.py:58: DeprecationWarning: `np.float` is a deprecated alias for the builtin `float`. To silence this warning, use `float` by itself. Doing this will not modify any behavior and is safe. If you specifically wanted the numpy scalar type, use `np.float64` here.\n",
      "Deprecated in NumPy 1.20; for more details and guidance: https://numpy.org/devdocs/release/1.20.0-notes.html#deprecations\n",
      "  dtype = np.float\n",
      "D:\\anaconda3\\lib\\site-packages\\sklearn\\metrics\\pairwise.py:58: DeprecationWarning: `np.float` is a deprecated alias for the builtin `float`. To silence this warning, use `float` by itself. Doing this will not modify any behavior and is safe. If you specifically wanted the numpy scalar type, use `np.float64` here.\n",
      "Deprecated in NumPy 1.20; for more details and guidance: https://numpy.org/devdocs/release/1.20.0-notes.html#deprecations\n",
      "  dtype = np.float\n",
      "D:\\anaconda3\\lib\\site-packages\\sklearn\\metrics\\pairwise.py:58: DeprecationWarning: `np.float` is a deprecated alias for the builtin `float`. To silence this warning, use `float` by itself. Doing this will not modify any behavior and is safe. If you specifically wanted the numpy scalar type, use `np.float64` here.\n",
      "Deprecated in NumPy 1.20; for more details and guidance: https://numpy.org/devdocs/release/1.20.0-notes.html#deprecations\n",
      "  dtype = np.float\n",
      "D:\\anaconda3\\lib\\site-packages\\sklearn\\metrics\\pairwise.py:58: DeprecationWarning: `np.float` is a deprecated alias for the builtin `float`. To silence this warning, use `float` by itself. Doing this will not modify any behavior and is safe. If you specifically wanted the numpy scalar type, use `np.float64` here.\n",
      "Deprecated in NumPy 1.20; for more details and guidance: https://numpy.org/devdocs/release/1.20.0-notes.html#deprecations\n",
      "  dtype = np.float\n",
      "D:\\anaconda3\\lib\\site-packages\\sklearn\\metrics\\pairwise.py:58: DeprecationWarning: `np.float` is a deprecated alias for the builtin `float`. To silence this warning, use `float` by itself. Doing this will not modify any behavior and is safe. If you specifically wanted the numpy scalar type, use `np.float64` here.\n",
      "Deprecated in NumPy 1.20; for more details and guidance: https://numpy.org/devdocs/release/1.20.0-notes.html#deprecations\n",
      "  dtype = np.float\n",
      "D:\\anaconda3\\lib\\site-packages\\sklearn\\metrics\\pairwise.py:58: DeprecationWarning: `np.float` is a deprecated alias for the builtin `float`. To silence this warning, use `float` by itself. Doing this will not modify any behavior and is safe. If you specifically wanted the numpy scalar type, use `np.float64` here.\n",
      "Deprecated in NumPy 1.20; for more details and guidance: https://numpy.org/devdocs/release/1.20.0-notes.html#deprecations\n",
      "  dtype = np.float\n",
      "D:\\anaconda3\\lib\\site-packages\\sklearn\\metrics\\pairwise.py:58: DeprecationWarning: `np.float` is a deprecated alias for the builtin `float`. To silence this warning, use `float` by itself. Doing this will not modify any behavior and is safe. If you specifically wanted the numpy scalar type, use `np.float64` here.\n",
      "Deprecated in NumPy 1.20; for more details and guidance: https://numpy.org/devdocs/release/1.20.0-notes.html#deprecations\n",
      "  dtype = np.float\n",
      "D:\\anaconda3\\lib\\site-packages\\sklearn\\metrics\\pairwise.py:58: DeprecationWarning: `np.float` is a deprecated alias for the builtin `float`. To silence this warning, use `float` by itself. Doing this will not modify any behavior and is safe. If you specifically wanted the numpy scalar type, use `np.float64` here.\n",
      "Deprecated in NumPy 1.20; for more details and guidance: https://numpy.org/devdocs/release/1.20.0-notes.html#deprecations\n",
      "  dtype = np.float\n",
      "D:\\anaconda3\\lib\\site-packages\\sklearn\\metrics\\pairwise.py:58: DeprecationWarning: `np.float` is a deprecated alias for the builtin `float`. To silence this warning, use `float` by itself. Doing this will not modify any behavior and is safe. If you specifically wanted the numpy scalar type, use `np.float64` here.\n",
      "Deprecated in NumPy 1.20; for more details and guidance: https://numpy.org/devdocs/release/1.20.0-notes.html#deprecations\n",
      "  dtype = np.float\n",
      "D:\\anaconda3\\lib\\site-packages\\sklearn\\metrics\\pairwise.py:58: DeprecationWarning: `np.float` is a deprecated alias for the builtin `float`. To silence this warning, use `float` by itself. Doing this will not modify any behavior and is safe. If you specifically wanted the numpy scalar type, use `np.float64` here.\n",
      "Deprecated in NumPy 1.20; for more details and guidance: https://numpy.org/devdocs/release/1.20.0-notes.html#deprecations\n",
      "  dtype = np.float\n",
      "D:\\anaconda3\\lib\\site-packages\\sklearn\\metrics\\pairwise.py:58: DeprecationWarning: `np.float` is a deprecated alias for the builtin `float`. To silence this warning, use `float` by itself. Doing this will not modify any behavior and is safe. If you specifically wanted the numpy scalar type, use `np.float64` here.\n",
      "Deprecated in NumPy 1.20; for more details and guidance: https://numpy.org/devdocs/release/1.20.0-notes.html#deprecations\n",
      "  dtype = np.float\n",
      "D:\\anaconda3\\lib\\site-packages\\sklearn\\metrics\\pairwise.py:58: DeprecationWarning: `np.float` is a deprecated alias for the builtin `float`. To silence this warning, use `float` by itself. Doing this will not modify any behavior and is safe. If you specifically wanted the numpy scalar type, use `np.float64` here.\n",
      "Deprecated in NumPy 1.20; for more details and guidance: https://numpy.org/devdocs/release/1.20.0-notes.html#deprecations\n",
      "  dtype = np.float\n",
      "D:\\anaconda3\\lib\\site-packages\\sklearn\\metrics\\pairwise.py:58: DeprecationWarning: `np.float` is a deprecated alias for the builtin `float`. To silence this warning, use `float` by itself. Doing this will not modify any behavior and is safe. If you specifically wanted the numpy scalar type, use `np.float64` here.\n",
      "Deprecated in NumPy 1.20; for more details and guidance: https://numpy.org/devdocs/release/1.20.0-notes.html#deprecations\n",
      "  dtype = np.float\n",
      "D:\\anaconda3\\lib\\site-packages\\sklearn\\metrics\\pairwise.py:58: DeprecationWarning: `np.float` is a deprecated alias for the builtin `float`. To silence this warning, use `float` by itself. Doing this will not modify any behavior and is safe. If you specifically wanted the numpy scalar type, use `np.float64` here.\n",
      "Deprecated in NumPy 1.20; for more details and guidance: https://numpy.org/devdocs/release/1.20.0-notes.html#deprecations\n",
      "  dtype = np.float\n",
      "D:\\anaconda3\\lib\\site-packages\\sklearn\\metrics\\pairwise.py:58: DeprecationWarning: `np.float` is a deprecated alias for the builtin `float`. To silence this warning, use `float` by itself. Doing this will not modify any behavior and is safe. If you specifically wanted the numpy scalar type, use `np.float64` here.\n",
      "Deprecated in NumPy 1.20; for more details and guidance: https://numpy.org/devdocs/release/1.20.0-notes.html#deprecations\n",
      "  dtype = np.float\n",
      "D:\\anaconda3\\lib\\site-packages\\sklearn\\metrics\\pairwise.py:58: DeprecationWarning: `np.float` is a deprecated alias for the builtin `float`. To silence this warning, use `float` by itself. Doing this will not modify any behavior and is safe. If you specifically wanted the numpy scalar type, use `np.float64` here.\n",
      "Deprecated in NumPy 1.20; for more details and guidance: https://numpy.org/devdocs/release/1.20.0-notes.html#deprecations\n",
      "  dtype = np.float\n",
      "D:\\anaconda3\\lib\\site-packages\\sklearn\\metrics\\pairwise.py:58: DeprecationWarning: `np.float` is a deprecated alias for the builtin `float`. To silence this warning, use `float` by itself. Doing this will not modify any behavior and is safe. If you specifically wanted the numpy scalar type, use `np.float64` here.\n",
      "Deprecated in NumPy 1.20; for more details and guidance: https://numpy.org/devdocs/release/1.20.0-notes.html#deprecations\n",
      "  dtype = np.float\n",
      "D:\\anaconda3\\lib\\site-packages\\sklearn\\metrics\\pairwise.py:58: DeprecationWarning: `np.float` is a deprecated alias for the builtin `float`. To silence this warning, use `float` by itself. Doing this will not modify any behavior and is safe. If you specifically wanted the numpy scalar type, use `np.float64` here.\n",
      "Deprecated in NumPy 1.20; for more details and guidance: https://numpy.org/devdocs/release/1.20.0-notes.html#deprecations\n",
      "  dtype = np.float\n",
      "D:\\anaconda3\\lib\\site-packages\\sklearn\\metrics\\pairwise.py:58: DeprecationWarning: `np.float` is a deprecated alias for the builtin `float`. To silence this warning, use `float` by itself. Doing this will not modify any behavior and is safe. If you specifically wanted the numpy scalar type, use `np.float64` here.\n",
      "Deprecated in NumPy 1.20; for more details and guidance: https://numpy.org/devdocs/release/1.20.0-notes.html#deprecations\n",
      "  dtype = np.float\n",
      "D:\\anaconda3\\lib\\site-packages\\sklearn\\metrics\\pairwise.py:58: DeprecationWarning: `np.float` is a deprecated alias for the builtin `float`. To silence this warning, use `float` by itself. Doing this will not modify any behavior and is safe. If you specifically wanted the numpy scalar type, use `np.float64` here.\n",
      "Deprecated in NumPy 1.20; for more details and guidance: https://numpy.org/devdocs/release/1.20.0-notes.html#deprecations\n",
      "  dtype = np.float\n",
      "D:\\anaconda3\\lib\\site-packages\\sklearn\\metrics\\pairwise.py:58: DeprecationWarning: `np.float` is a deprecated alias for the builtin `float`. To silence this warning, use `float` by itself. Doing this will not modify any behavior and is safe. If you specifically wanted the numpy scalar type, use `np.float64` here.\n",
      "Deprecated in NumPy 1.20; for more details and guidance: https://numpy.org/devdocs/release/1.20.0-notes.html#deprecations\n",
      "  dtype = np.float\n",
      "D:\\anaconda3\\lib\\site-packages\\sklearn\\metrics\\pairwise.py:58: DeprecationWarning: `np.float` is a deprecated alias for the builtin `float`. To silence this warning, use `float` by itself. Doing this will not modify any behavior and is safe. If you specifically wanted the numpy scalar type, use `np.float64` here.\n",
      "Deprecated in NumPy 1.20; for more details and guidance: https://numpy.org/devdocs/release/1.20.0-notes.html#deprecations\n",
      "  dtype = np.float\n",
      "D:\\anaconda3\\lib\\site-packages\\sklearn\\metrics\\pairwise.py:58: DeprecationWarning: `np.float` is a deprecated alias for the builtin `float`. To silence this warning, use `float` by itself. Doing this will not modify any behavior and is safe. If you specifically wanted the numpy scalar type, use `np.float64` here.\n",
      "Deprecated in NumPy 1.20; for more details and guidance: https://numpy.org/devdocs/release/1.20.0-notes.html#deprecations\n",
      "  dtype = np.float\n",
      "D:\\anaconda3\\lib\\site-packages\\sklearn\\metrics\\pairwise.py:58: DeprecationWarning: `np.float` is a deprecated alias for the builtin `float`. To silence this warning, use `float` by itself. Doing this will not modify any behavior and is safe. If you specifically wanted the numpy scalar type, use `np.float64` here.\n",
      "Deprecated in NumPy 1.20; for more details and guidance: https://numpy.org/devdocs/release/1.20.0-notes.html#deprecations\n",
      "  dtype = np.float\n",
      "D:\\anaconda3\\lib\\site-packages\\sklearn\\metrics\\pairwise.py:58: DeprecationWarning: `np.float` is a deprecated alias for the builtin `float`. To silence this warning, use `float` by itself. Doing this will not modify any behavior and is safe. If you specifically wanted the numpy scalar type, use `np.float64` here.\n",
      "Deprecated in NumPy 1.20; for more details and guidance: https://numpy.org/devdocs/release/1.20.0-notes.html#deprecations\n",
      "  dtype = np.float\n",
      "D:\\anaconda3\\lib\\site-packages\\sklearn\\metrics\\pairwise.py:58: DeprecationWarning: `np.float` is a deprecated alias for the builtin `float`. To silence this warning, use `float` by itself. Doing this will not modify any behavior and is safe. If you specifically wanted the numpy scalar type, use `np.float64` here.\n",
      "Deprecated in NumPy 1.20; for more details and guidance: https://numpy.org/devdocs/release/1.20.0-notes.html#deprecations\n",
      "  dtype = np.float\n",
      "D:\\anaconda3\\lib\\site-packages\\sklearn\\metrics\\pairwise.py:58: DeprecationWarning: `np.float` is a deprecated alias for the builtin `float`. To silence this warning, use `float` by itself. Doing this will not modify any behavior and is safe. If you specifically wanted the numpy scalar type, use `np.float64` here.\n",
      "Deprecated in NumPy 1.20; for more details and guidance: https://numpy.org/devdocs/release/1.20.0-notes.html#deprecations\n",
      "  dtype = np.float\n",
      "D:\\anaconda3\\lib\\site-packages\\sklearn\\metrics\\pairwise.py:58: DeprecationWarning: `np.float` is a deprecated alias for the builtin `float`. To silence this warning, use `float` by itself. Doing this will not modify any behavior and is safe. If you specifically wanted the numpy scalar type, use `np.float64` here.\n",
      "Deprecated in NumPy 1.20; for more details and guidance: https://numpy.org/devdocs/release/1.20.0-notes.html#deprecations\n",
      "  dtype = np.float\n",
      "D:\\anaconda3\\lib\\site-packages\\sklearn\\metrics\\pairwise.py:58: DeprecationWarning: `np.float` is a deprecated alias for the builtin `float`. To silence this warning, use `float` by itself. Doing this will not modify any behavior and is safe. If you specifically wanted the numpy scalar type, use `np.float64` here.\n",
      "Deprecated in NumPy 1.20; for more details and guidance: https://numpy.org/devdocs/release/1.20.0-notes.html#deprecations\n",
      "  dtype = np.float\n",
      "D:\\anaconda3\\lib\\site-packages\\sklearn\\metrics\\pairwise.py:58: DeprecationWarning: `np.float` is a deprecated alias for the builtin `float`. To silence this warning, use `float` by itself. Doing this will not modify any behavior and is safe. If you specifically wanted the numpy scalar type, use `np.float64` here.\n",
      "Deprecated in NumPy 1.20; for more details and guidance: https://numpy.org/devdocs/release/1.20.0-notes.html#deprecations\n",
      "  dtype = np.float\n",
      "D:\\anaconda3\\lib\\site-packages\\sklearn\\metrics\\pairwise.py:58: DeprecationWarning: `np.float` is a deprecated alias for the builtin `float`. To silence this warning, use `float` by itself. Doing this will not modify any behavior and is safe. If you specifically wanted the numpy scalar type, use `np.float64` here.\n",
      "Deprecated in NumPy 1.20; for more details and guidance: https://numpy.org/devdocs/release/1.20.0-notes.html#deprecations\n",
      "  dtype = np.float\n",
      "D:\\anaconda3\\lib\\site-packages\\sklearn\\metrics\\pairwise.py:58: DeprecationWarning: `np.float` is a deprecated alias for the builtin `float`. To silence this warning, use `float` by itself. Doing this will not modify any behavior and is safe. If you specifically wanted the numpy scalar type, use `np.float64` here.\n",
      "Deprecated in NumPy 1.20; for more details and guidance: https://numpy.org/devdocs/release/1.20.0-notes.html#deprecations\n",
      "  dtype = np.float\n",
      "D:\\anaconda3\\lib\\site-packages\\sklearn\\metrics\\pairwise.py:58: DeprecationWarning: `np.float` is a deprecated alias for the builtin `float`. To silence this warning, use `float` by itself. Doing this will not modify any behavior and is safe. If you specifically wanted the numpy scalar type, use `np.float64` here.\n",
      "Deprecated in NumPy 1.20; for more details and guidance: https://numpy.org/devdocs/release/1.20.0-notes.html#deprecations\n",
      "  dtype = np.float\n",
      "D:\\anaconda3\\lib\\site-packages\\sklearn\\metrics\\pairwise.py:58: DeprecationWarning: `np.float` is a deprecated alias for the builtin `float`. To silence this warning, use `float` by itself. Doing this will not modify any behavior and is safe. If you specifically wanted the numpy scalar type, use `np.float64` here.\n",
      "Deprecated in NumPy 1.20; for more details and guidance: https://numpy.org/devdocs/release/1.20.0-notes.html#deprecations\n",
      "  dtype = np.float\n",
      "D:\\anaconda3\\lib\\site-packages\\sklearn\\metrics\\pairwise.py:58: DeprecationWarning: `np.float` is a deprecated alias for the builtin `float`. To silence this warning, use `float` by itself. Doing this will not modify any behavior and is safe. If you specifically wanted the numpy scalar type, use `np.float64` here.\n",
      "Deprecated in NumPy 1.20; for more details and guidance: https://numpy.org/devdocs/release/1.20.0-notes.html#deprecations\n",
      "  dtype = np.float\n",
      "D:\\anaconda3\\lib\\site-packages\\sklearn\\metrics\\pairwise.py:58: DeprecationWarning: `np.float` is a deprecated alias for the builtin `float`. To silence this warning, use `float` by itself. Doing this will not modify any behavior and is safe. If you specifically wanted the numpy scalar type, use `np.float64` here.\n",
      "Deprecated in NumPy 1.20; for more details and guidance: https://numpy.org/devdocs/release/1.20.0-notes.html#deprecations\n",
      "  dtype = np.float\n",
      "D:\\anaconda3\\lib\\site-packages\\sklearn\\metrics\\pairwise.py:58: DeprecationWarning: `np.float` is a deprecated alias for the builtin `float`. To silence this warning, use `float` by itself. Doing this will not modify any behavior and is safe. If you specifically wanted the numpy scalar type, use `np.float64` here.\n",
      "Deprecated in NumPy 1.20; for more details and guidance: https://numpy.org/devdocs/release/1.20.0-notes.html#deprecations\n",
      "  dtype = np.float\n",
      "D:\\anaconda3\\lib\\site-packages\\sklearn\\metrics\\pairwise.py:58: DeprecationWarning: `np.float` is a deprecated alias for the builtin `float`. To silence this warning, use `float` by itself. Doing this will not modify any behavior and is safe. If you specifically wanted the numpy scalar type, use `np.float64` here.\n",
      "Deprecated in NumPy 1.20; for more details and guidance: https://numpy.org/devdocs/release/1.20.0-notes.html#deprecations\n",
      "  dtype = np.float\n",
      "D:\\anaconda3\\lib\\site-packages\\sklearn\\metrics\\pairwise.py:58: DeprecationWarning: `np.float` is a deprecated alias for the builtin `float`. To silence this warning, use `float` by itself. Doing this will not modify any behavior and is safe. If you specifically wanted the numpy scalar type, use `np.float64` here.\n",
      "Deprecated in NumPy 1.20; for more details and guidance: https://numpy.org/devdocs/release/1.20.0-notes.html#deprecations\n",
      "  dtype = np.float\n",
      "D:\\anaconda3\\lib\\site-packages\\sklearn\\metrics\\pairwise.py:58: DeprecationWarning: `np.float` is a deprecated alias for the builtin `float`. To silence this warning, use `float` by itself. Doing this will not modify any behavior and is safe. If you specifically wanted the numpy scalar type, use `np.float64` here.\n",
      "Deprecated in NumPy 1.20; for more details and guidance: https://numpy.org/devdocs/release/1.20.0-notes.html#deprecations\n",
      "  dtype = np.float\n",
      "D:\\anaconda3\\lib\\site-packages\\sklearn\\metrics\\pairwise.py:58: DeprecationWarning: `np.float` is a deprecated alias for the builtin `float`. To silence this warning, use `float` by itself. Doing this will not modify any behavior and is safe. If you specifically wanted the numpy scalar type, use `np.float64` here.\n",
      "Deprecated in NumPy 1.20; for more details and guidance: https://numpy.org/devdocs/release/1.20.0-notes.html#deprecations\n",
      "  dtype = np.float\n",
      "D:\\anaconda3\\lib\\site-packages\\sklearn\\metrics\\pairwise.py:58: DeprecationWarning: `np.float` is a deprecated alias for the builtin `float`. To silence this warning, use `float` by itself. Doing this will not modify any behavior and is safe. If you specifically wanted the numpy scalar type, use `np.float64` here.\n",
      "Deprecated in NumPy 1.20; for more details and guidance: https://numpy.org/devdocs/release/1.20.0-notes.html#deprecations\n",
      "  dtype = np.float\n",
      "D:\\anaconda3\\lib\\site-packages\\sklearn\\metrics\\pairwise.py:58: DeprecationWarning: `np.float` is a deprecated alias for the builtin `float`. To silence this warning, use `float` by itself. Doing this will not modify any behavior and is safe. If you specifically wanted the numpy scalar type, use `np.float64` here.\n",
      "Deprecated in NumPy 1.20; for more details and guidance: https://numpy.org/devdocs/release/1.20.0-notes.html#deprecations\n",
      "  dtype = np.float\n",
      "D:\\anaconda3\\lib\\site-packages\\sklearn\\metrics\\pairwise.py:58: DeprecationWarning: `np.float` is a deprecated alias for the builtin `float`. To silence this warning, use `float` by itself. Doing this will not modify any behavior and is safe. If you specifically wanted the numpy scalar type, use `np.float64` here.\n",
      "Deprecated in NumPy 1.20; for more details and guidance: https://numpy.org/devdocs/release/1.20.0-notes.html#deprecations\n",
      "  dtype = np.float\n",
      "D:\\anaconda3\\lib\\site-packages\\sklearn\\metrics\\pairwise.py:58: DeprecationWarning: `np.float` is a deprecated alias for the builtin `float`. To silence this warning, use `float` by itself. Doing this will not modify any behavior and is safe. If you specifically wanted the numpy scalar type, use `np.float64` here.\n",
      "Deprecated in NumPy 1.20; for more details and guidance: https://numpy.org/devdocs/release/1.20.0-notes.html#deprecations\n",
      "  dtype = np.float\n",
      "D:\\anaconda3\\lib\\site-packages\\sklearn\\metrics\\pairwise.py:58: DeprecationWarning: `np.float` is a deprecated alias for the builtin `float`. To silence this warning, use `float` by itself. Doing this will not modify any behavior and is safe. If you specifically wanted the numpy scalar type, use `np.float64` here.\n",
      "Deprecated in NumPy 1.20; for more details and guidance: https://numpy.org/devdocs/release/1.20.0-notes.html#deprecations\n",
      "  dtype = np.float\n",
      "D:\\anaconda3\\lib\\site-packages\\sklearn\\metrics\\pairwise.py:58: DeprecationWarning: `np.float` is a deprecated alias for the builtin `float`. To silence this warning, use `float` by itself. Doing this will not modify any behavior and is safe. If you specifically wanted the numpy scalar type, use `np.float64` here.\n",
      "Deprecated in NumPy 1.20; for more details and guidance: https://numpy.org/devdocs/release/1.20.0-notes.html#deprecations\n",
      "  dtype = np.float\n",
      "D:\\anaconda3\\lib\\site-packages\\sklearn\\metrics\\pairwise.py:58: DeprecationWarning: `np.float` is a deprecated alias for the builtin `float`. To silence this warning, use `float` by itself. Doing this will not modify any behavior and is safe. If you specifically wanted the numpy scalar type, use `np.float64` here.\n",
      "Deprecated in NumPy 1.20; for more details and guidance: https://numpy.org/devdocs/release/1.20.0-notes.html#deprecations\n",
      "  dtype = np.float\n",
      "D:\\anaconda3\\lib\\site-packages\\sklearn\\metrics\\pairwise.py:58: DeprecationWarning: `np.float` is a deprecated alias for the builtin `float`. To silence this warning, use `float` by itself. Doing this will not modify any behavior and is safe. If you specifically wanted the numpy scalar type, use `np.float64` here.\n",
      "Deprecated in NumPy 1.20; for more details and guidance: https://numpy.org/devdocs/release/1.20.0-notes.html#deprecations\n",
      "  dtype = np.float\n",
      "D:\\anaconda3\\lib\\site-packages\\sklearn\\metrics\\pairwise.py:58: DeprecationWarning: `np.float` is a deprecated alias for the builtin `float`. To silence this warning, use `float` by itself. Doing this will not modify any behavior and is safe. If you specifically wanted the numpy scalar type, use `np.float64` here.\n",
      "Deprecated in NumPy 1.20; for more details and guidance: https://numpy.org/devdocs/release/1.20.0-notes.html#deprecations\n",
      "  dtype = np.float\n",
      "D:\\anaconda3\\lib\\site-packages\\sklearn\\metrics\\pairwise.py:58: DeprecationWarning: `np.float` is a deprecated alias for the builtin `float`. To silence this warning, use `float` by itself. Doing this will not modify any behavior and is safe. If you specifically wanted the numpy scalar type, use `np.float64` here.\n",
      "Deprecated in NumPy 1.20; for more details and guidance: https://numpy.org/devdocs/release/1.20.0-notes.html#deprecations\n",
      "  dtype = np.float\n",
      "D:\\anaconda3\\lib\\site-packages\\sklearn\\metrics\\pairwise.py:58: DeprecationWarning: `np.float` is a deprecated alias for the builtin `float`. To silence this warning, use `float` by itself. Doing this will not modify any behavior and is safe. If you specifically wanted the numpy scalar type, use `np.float64` here.\n",
      "Deprecated in NumPy 1.20; for more details and guidance: https://numpy.org/devdocs/release/1.20.0-notes.html#deprecations\n",
      "  dtype = np.float\n",
      "D:\\anaconda3\\lib\\site-packages\\sklearn\\metrics\\pairwise.py:58: DeprecationWarning: `np.float` is a deprecated alias for the builtin `float`. To silence this warning, use `float` by itself. Doing this will not modify any behavior and is safe. If you specifically wanted the numpy scalar type, use `np.float64` here.\n",
      "Deprecated in NumPy 1.20; for more details and guidance: https://numpy.org/devdocs/release/1.20.0-notes.html#deprecations\n",
      "  dtype = np.float\n",
      "D:\\anaconda3\\lib\\site-packages\\sklearn\\metrics\\pairwise.py:58: DeprecationWarning: `np.float` is a deprecated alias for the builtin `float`. To silence this warning, use `float` by itself. Doing this will not modify any behavior and is safe. If you specifically wanted the numpy scalar type, use `np.float64` here.\n",
      "Deprecated in NumPy 1.20; for more details and guidance: https://numpy.org/devdocs/release/1.20.0-notes.html#deprecations\n",
      "  dtype = np.float\n",
      "D:\\anaconda3\\lib\\site-packages\\sklearn\\metrics\\pairwise.py:58: DeprecationWarning: `np.float` is a deprecated alias for the builtin `float`. To silence this warning, use `float` by itself. Doing this will not modify any behavior and is safe. If you specifically wanted the numpy scalar type, use `np.float64` here.\n",
      "Deprecated in NumPy 1.20; for more details and guidance: https://numpy.org/devdocs/release/1.20.0-notes.html#deprecations\n",
      "  dtype = np.float\n",
      "D:\\anaconda3\\lib\\site-packages\\sklearn\\metrics\\pairwise.py:58: DeprecationWarning: `np.float` is a deprecated alias for the builtin `float`. To silence this warning, use `float` by itself. Doing this will not modify any behavior and is safe. If you specifically wanted the numpy scalar type, use `np.float64` here.\n",
      "Deprecated in NumPy 1.20; for more details and guidance: https://numpy.org/devdocs/release/1.20.0-notes.html#deprecations\n",
      "  dtype = np.float\n",
      "D:\\anaconda3\\lib\\site-packages\\sklearn\\metrics\\pairwise.py:58: DeprecationWarning: `np.float` is a deprecated alias for the builtin `float`. To silence this warning, use `float` by itself. Doing this will not modify any behavior and is safe. If you specifically wanted the numpy scalar type, use `np.float64` here.\n",
      "Deprecated in NumPy 1.20; for more details and guidance: https://numpy.org/devdocs/release/1.20.0-notes.html#deprecations\n",
      "  dtype = np.float\n",
      "D:\\anaconda3\\lib\\site-packages\\sklearn\\metrics\\pairwise.py:58: DeprecationWarning: `np.float` is a deprecated alias for the builtin `float`. To silence this warning, use `float` by itself. Doing this will not modify any behavior and is safe. If you specifically wanted the numpy scalar type, use `np.float64` here.\n",
      "Deprecated in NumPy 1.20; for more details and guidance: https://numpy.org/devdocs/release/1.20.0-notes.html#deprecations\n",
      "  dtype = np.float\n"
     ]
    },
    {
     "name": "stdout",
     "output_type": "stream",
     "text": [
      "\n",
      "Note: if you're in the IPython notebook, pyLDAvis.show() is not the best command\n",
      "      to use. Consider using pyLDAvis.display(), or pyLDAvis.enable_notebook().\n",
      "      See more information at http://pyLDAvis.github.io/quickstart.html .\n",
      "\n",
      "You must interrupt the kernel to end this command\n",
      "\n",
      "Serving to http://127.0.0.1:8894/    [Ctrl-C to exit]\n"
     ]
    },
    {
     "name": "stderr",
     "output_type": "stream",
     "text": [
      "127.0.0.1 - - [16/Apr/2021 18:26:14] \"GET / HTTP/1.1\" 200 -\n",
      "127.0.0.1 - - [16/Apr/2021 18:26:15] \"GET /LDAvis.css HTTP/1.1\" 200 -\n",
      "127.0.0.1 - - [16/Apr/2021 18:26:15] \"GET /d3.js HTTP/1.1\" 200 -\n",
      "127.0.0.1 - - [16/Apr/2021 18:26:15] \"GET /LDAvis.js HTTP/1.1\" 200 -\n"
     ]
    },
    {
     "name": "stdout",
     "output_type": "stream",
     "text": [
      "\n",
      "stopping Server...\n"
     ]
    }
   ],
   "source": [
    "vis = pyLDAvis.gensim.prepare(model_list[7], corpus, id2word,mds='mmds')\n",
    "pyLDAvis.show(vis)"
   ]
  },
  {
   "cell_type": "code",
   "execution_count": null,
   "metadata": {},
   "outputs": [],
   "source": []
  }
 ],
 "metadata": {
  "kernelspec": {
   "display_name": "Python 3",
   "language": "python",
   "name": "python3"
  },
  "language_info": {
   "codemirror_mode": {
    "name": "ipython",
    "version": 3
   },
   "file_extension": ".py",
   "mimetype": "text/x-python",
   "name": "python",
   "nbconvert_exporter": "python",
   "pygments_lexer": "ipython3",
   "version": "3.8.5"
  }
 },
 "nbformat": 4,
 "nbformat_minor": 4
}
